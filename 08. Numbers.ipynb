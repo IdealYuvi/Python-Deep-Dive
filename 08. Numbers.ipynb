{
 "cells": [
  {
   "cell_type": "markdown",
   "id": "c990916b-dcd1-4c40-b4de-e493df4df924",
   "metadata": {},
   "source": [
    "Five main types of numbers,\n",
    "> 1. Integer Numbers - int\n",
    "> 2. Rational Numbers - fractions.Fraction\n",
    "> 3. Real Numbers - float, decimal.Decimal\n",
    "> 4. Complex Numbers - complex\n",
    "> 5. Boolean Truth Values - 0(False), 1(True)"
   ]
  },
  {
   "cell_type": "markdown",
   "id": "d86ac041-84c7-4ad6-ae78-4c936049568e",
   "metadata": {},
   "source": [
    "## **Interger Data Type**"
   ]
  },
  {
   "cell_type": "markdown",
   "id": "0fcb1faf-6ef2-41c2-84fe-53fb3a3f6483",
   "metadata": {},
   "source": [
    "An integer number is an object - an instance of int class. <br>\n",
    "The int object uses a variable number of bits. <br>\n",
    "Can use 4 bytes(32 bits), 8 bytes(64 bits), etc. <br>\n",
    "Theoretically limited only by the amount of memory available. <br>\n"
   ]
  },
  {
   "cell_type": "code",
   "execution_count": 1,
   "id": "23b79caa-d9e1-40ee-908b-cea0744e47c4",
   "metadata": {},
   "outputs": [
    {
     "name": "stdout",
     "output_type": "stream",
     "text": [
      "<class 'int'>\n"
     ]
    }
   ],
   "source": [
    "print(type(100))"
   ]
  },
  {
   "cell_type": "code",
   "execution_count": 2,
   "id": "75da91a2-88b2-47bf-8089-b2a27fa419a6",
   "metadata": {},
   "outputs": [],
   "source": [
    "import sys"
   ]
  },
  {
   "cell_type": "code",
   "execution_count": 3,
   "id": "02aed452-1741-435e-b30e-7cdae9e78a93",
   "metadata": {},
   "outputs": [
    {
     "data": {
      "text/plain": [
       "28"
      ]
     },
     "execution_count": 3,
     "metadata": {},
     "output_type": "execute_result"
    }
   ],
   "source": [
    "sys.getsizeof(0) # result is in bytes"
   ]
  },
  {
   "cell_type": "code",
   "execution_count": 4,
   "id": "ddad7c29-494b-4ca9-bf1b-10bcb375ed81",
   "metadata": {},
   "outputs": [
    {
     "data": {
      "text/plain": [
       "28"
      ]
     },
     "execution_count": 4,
     "metadata": {},
     "output_type": "execute_result"
    }
   ],
   "source": [
    "sys.getsizeof(1) "
   ]
  },
  {
   "cell_type": "code",
   "execution_count": 5,
   "id": "f1244bff-ee9e-453a-8233-f7f5e2f92567",
   "metadata": {},
   "outputs": [
    {
     "data": {
      "text/plain": [
       "160"
      ]
     },
     "execution_count": 5,
     "metadata": {},
     "output_type": "execute_result"
    }
   ],
   "source": [
    "sys.getsizeof(2**1000)"
   ]
  },
  {
   "cell_type": "code",
   "execution_count": 6,
   "id": "a11ee6ba-cad2-4960-a0d9-834e466a4eaf",
   "metadata": {},
   "outputs": [
    {
     "data": {
      "text/plain": [
       "int"
      ]
     },
     "execution_count": 6,
     "metadata": {},
     "output_type": "execute_result"
    }
   ],
   "source": [
    "type(1+1)"
   ]
  },
  {
   "cell_type": "code",
   "execution_count": 7,
   "id": "db641614-526a-4789-9296-7d999d9f857b",
   "metadata": {},
   "outputs": [
    {
     "data": {
      "text/plain": [
       "int"
      ]
     },
     "execution_count": 7,
     "metadata": {},
     "output_type": "execute_result"
    }
   ],
   "source": [
    "type(2*3)"
   ]
  },
  {
   "cell_type": "markdown",
   "id": "da975b4a-67d0-436f-9422-7ef4c16a55b3",
   "metadata": {},
   "source": [
    "Int divided by int returns float"
   ]
  },
  {
   "cell_type": "code",
   "execution_count": 8,
   "id": "13dbb43b-ff49-4aab-845a-5f627f7a759e",
   "metadata": {},
   "outputs": [
    {
     "name": "stdout",
     "output_type": "stream",
     "text": [
      "1.0\n",
      "<class 'float'>\n"
     ]
    }
   ],
   "source": [
    "x = 5/5\n",
    "print(x)\n",
    "print(type(x))"
   ]
  },
  {
   "cell_type": "code",
   "execution_count": 9,
   "id": "f81b715f-fe4d-44a1-8c46-3827188fdd1f",
   "metadata": {},
   "outputs": [
    {
     "name": "stdout",
     "output_type": "stream",
     "text": [
      "1.4\n",
      "<class 'float'>\n"
     ]
    }
   ],
   "source": [
    "x = 7/5\n",
    "print(x)\n",
    "print(type(x))"
   ]
  },
  {
   "cell_type": "markdown",
   "id": "fa5daa55-a553-4b4e-aa74-ab16e9c206af",
   "metadata": {},
   "source": [
    "Use `//` floor division to get int result or use floor function of math module"
   ]
  },
  {
   "cell_type": "code",
   "execution_count": 10,
   "id": "05efbd1b-4684-4ff7-ba54-42b6a6fdeaed",
   "metadata": {},
   "outputs": [
    {
     "name": "stdout",
     "output_type": "stream",
     "text": [
      "1\n",
      "<class 'int'>\n"
     ]
    }
   ],
   "source": [
    "x = 5//5\n",
    "print(x)\n",
    "print(type(x))"
   ]
  },
  {
   "cell_type": "code",
   "execution_count": 11,
   "id": "33ad17dd-6f0c-4d30-b887-e99d130ada42",
   "metadata": {},
   "outputs": [
    {
     "name": "stdout",
     "output_type": "stream",
     "text": [
      "1\n",
      "<class 'int'>\n"
     ]
    }
   ],
   "source": [
    "x = 7//5\n",
    "print(x)\n",
    "print(type(x))"
   ]
  },
  {
   "cell_type": "code",
   "execution_count": 12,
   "id": "0620703a-2aa7-49ee-a39c-eac83d72664c",
   "metadata": {},
   "outputs": [
    {
     "data": {
      "text/plain": [
       "int"
      ]
     },
     "execution_count": 12,
     "metadata": {},
     "output_type": "execute_result"
    }
   ],
   "source": [
    "import math \n",
    "\n",
    "type(math.floor(7/5))"
   ]
  },
  {
   "cell_type": "markdown",
   "id": "747534d4-97f4-4de3-ba3d-83fca857a8bd",
   "metadata": {},
   "source": [
    "int object has two constructors,\n",
    "> 1. int([x]) -> integer\n",
    "> 2. int(x, base=10) -> integer\n",
    "\n",
    "When used with a string as parameter we can give a second parameter into the constructor, int(str, 2<=base<=36)"
   ]
  },
  {
   "cell_type": "code",
   "execution_count": 13,
   "id": "0c002472-4c6b-413d-bb65-e59761f841f3",
   "metadata": {},
   "outputs": [
    {
     "data": {
      "text/plain": [
       "10"
      ]
     },
     "execution_count": 13,
     "metadata": {},
     "output_type": "execute_result"
    }
   ],
   "source": [
    "int('1010', base=2)"
   ]
  },
  {
   "cell_type": "code",
   "execution_count": 14,
   "id": "3a9d180b-0cce-43c3-b947-837c52bd0868",
   "metadata": {},
   "outputs": [
    {
     "data": {
      "text/plain": [
       "1010"
      ]
     },
     "execution_count": 14,
     "metadata": {},
     "output_type": "execute_result"
    }
   ],
   "source": [
    "int('1010') # default is base 10"
   ]
  },
  {
   "cell_type": "code",
   "execution_count": 15,
   "id": "52d995f1-f78d-45fc-afc9-22d3d495577f",
   "metadata": {},
   "outputs": [
    {
     "data": {
      "text/plain": [
       "41263"
      ]
     },
     "execution_count": 15,
     "metadata": {},
     "output_type": "execute_result"
    }
   ],
   "source": [
    "int('a12f', base=16)"
   ]
  },
  {
   "cell_type": "markdown",
   "id": "cb854c9a-be66-4e30-b534-f71987e692a3",
   "metadata": {},
   "source": [
    "Reverse Process: changing an integer from base 10 to another base"
   ]
  },
  {
   "cell_type": "code",
   "execution_count": 16,
   "id": "a15ae849-2ac6-4df9-b228-6f6525f20012",
   "metadata": {},
   "outputs": [
    {
     "data": {
      "text/plain": [
       "'0b1010'"
      ]
     },
     "execution_count": 16,
     "metadata": {},
     "output_type": "execute_result"
    }
   ],
   "source": [
    "bin(10) # returns a string of binary representation(base 2) of integer"
   ]
  },
  {
   "cell_type": "code",
   "execution_count": 17,
   "id": "9449cd26-c756-477b-b3e3-86ae3c7f4364",
   "metadata": {},
   "outputs": [
    {
     "data": {
      "text/plain": [
       "'0o12'"
      ]
     },
     "execution_count": 17,
     "metadata": {},
     "output_type": "execute_result"
    }
   ],
   "source": [
    "oct(10) # returns a string of base 8 representation"
   ]
  },
  {
   "cell_type": "code",
   "execution_count": 18,
   "id": "7dda34dc-50cd-4561-b529-513b23b79963",
   "metadata": {},
   "outputs": [
    {
     "data": {
      "text/plain": [
       "'0xa'"
      ]
     },
     "execution_count": 18,
     "metadata": {},
     "output_type": "execute_result"
    }
   ],
   "source": [
    "hex(10) # returns a string of base 16 representation"
   ]
  },
  {
   "cell_type": "markdown",
   "id": "df4e4aa9-a30b-49ec-ad4e-7ff54674758f",
   "metadata": {},
   "source": [
    "The prefixes in the strings help document the base of the number. <br>\n",
    "These prefixes are consistent with literal integers using a base prefix."
   ]
  },
  {
   "cell_type": "code",
   "execution_count": 19,
   "id": "cddf0740-84a9-4fb8-b8ff-10aa0993a2e8",
   "metadata": {},
   "outputs": [
    {
     "name": "stdout",
     "output_type": "stream",
     "text": [
      "10\n"
     ]
    }
   ],
   "source": [
    "a = 0b1010\n",
    "\n",
    "print(a)"
   ]
  },
  {
   "cell_type": "markdown",
   "id": "76f2575e-3e0a-4c5e-9c2b-b18f5af55388",
   "metadata": {},
   "source": [
    "## **Boolean Data Type**"
   ]
  },
  {
   "cell_type": "markdown",
   "id": "afc794d2-9d70-44a8-8bef-86fc615ff8fc",
   "metadata": {},
   "source": [
    "`True` and `False` are singleton objects, they will always retain their same memory address throughout the lifetime of your application. <br>\n",
    "So, comparisons can be performed using either `is` operator or `==` operator."
   ]
  },
  {
   "cell_type": "code",
   "execution_count": 20,
   "id": "b6bfab9a-fe8d-4ecd-876e-09faeb011ec4",
   "metadata": {},
   "outputs": [],
   "source": [
    "a = 1 < 2"
   ]
  },
  {
   "cell_type": "code",
   "execution_count": 21,
   "id": "1fb37fdd-ecc1-44ff-afab-b6fec234ada6",
   "metadata": {},
   "outputs": [
    {
     "name": "stdout",
     "output_type": "stream",
     "text": [
      "True\n"
     ]
    }
   ],
   "source": [
    "print(a)"
   ]
  },
  {
   "cell_type": "code",
   "execution_count": 22,
   "id": "70b332bb-306d-4944-bf43-62bf614939e8",
   "metadata": {},
   "outputs": [
    {
     "name": "stdout",
     "output_type": "stream",
     "text": [
      "<class 'bool'>\n"
     ]
    }
   ],
   "source": [
    "print(type(a))"
   ]
  },
  {
   "cell_type": "code",
   "execution_count": 23,
   "id": "86ff2cc6-62c4-48f0-9840-1041bb3d951c",
   "metadata": {},
   "outputs": [
    {
     "data": {
      "text/plain": [
       "True"
      ]
     },
     "execution_count": 23,
     "metadata": {},
     "output_type": "execute_result"
    }
   ],
   "source": [
    "a == True"
   ]
  },
  {
   "cell_type": "code",
   "execution_count": 24,
   "id": "061ba849-8f0a-457e-af47-601cdba991c6",
   "metadata": {},
   "outputs": [
    {
     "data": {
      "text/plain": [
       "True"
      ]
     },
     "execution_count": 24,
     "metadata": {},
     "output_type": "execute_result"
    }
   ],
   "source": [
    "a is True"
   ]
  },
  {
   "cell_type": "markdown",
   "id": "c6f58e41-aeda-4a23-b220-b8b8ab7025b0",
   "metadata": {},
   "source": [
    "bool is a subclass of int object, so they can be interpreted as the integers 1 and 0."
   ]
  },
  {
   "cell_type": "code",
   "execution_count": 25,
   "id": "32c4b87c-895c-4a8f-b0d7-9cdfa2ac69be",
   "metadata": {},
   "outputs": [
    {
     "data": {
      "text/plain": [
       "True"
      ]
     },
     "execution_count": 25,
     "metadata": {},
     "output_type": "execute_result"
    }
   ],
   "source": [
    "issubclass(bool, int)"
   ]
  },
  {
   "cell_type": "code",
   "execution_count": 26,
   "id": "663df2e5-7823-4715-8a0b-f13b51460fce",
   "metadata": {},
   "outputs": [
    {
     "data": {
      "text/plain": [
       "1"
      ]
     },
     "execution_count": 26,
     "metadata": {},
     "output_type": "execute_result"
    }
   ],
   "source": [
    "int(True)"
   ]
  },
  {
   "cell_type": "code",
   "execution_count": 27,
   "id": "51d19faf-c320-4878-901f-0a03b96d0bdc",
   "metadata": {},
   "outputs": [
    {
     "data": {
      "text/plain": [
       "0"
      ]
     },
     "execution_count": 27,
     "metadata": {},
     "output_type": "execute_result"
    }
   ],
   "source": [
    "int(False)"
   ]
  },
  {
   "cell_type": "markdown",
   "id": "74a7f0e1-cc10-490d-96e5-2b6edecf23ed",
   "metadata": {},
   "source": [
    "But `True` and `1` are not the same object."
   ]
  },
  {
   "cell_type": "code",
   "execution_count": 28,
   "id": "e76b133e-a691-46ac-992f-6b046d081659",
   "metadata": {},
   "outputs": [
    {
     "data": {
      "text/plain": [
       "False"
      ]
     },
     "execution_count": 28,
     "metadata": {},
     "output_type": "execute_result"
    }
   ],
   "source": [
    "a = 1\n",
    "\n",
    "a is True"
   ]
  },
  {
   "cell_type": "markdown",
   "id": "0eb53af6-0791-4cf2-b9dc-c56687932134",
   "metadata": {},
   "source": [
    "Any integer operation will work with booleans."
   ]
  },
  {
   "cell_type": "code",
   "execution_count": 29,
   "id": "bd234218-5b7d-4054-b846-5021326c4893",
   "metadata": {},
   "outputs": [
    {
     "data": {
      "text/plain": [
       "1"
      ]
     },
     "execution_count": 29,
     "metadata": {},
     "output_type": "execute_result"
    }
   ],
   "source": [
    "(True + True + True) % 2"
   ]
  },
  {
   "cell_type": "code",
   "execution_count": null,
   "id": "77baa241-6ad4-46b4-9203-93e5facde9c4",
   "metadata": {},
   "outputs": [],
   "source": []
  }
 ],
 "metadata": {
  "kernelspec": {
   "display_name": "Python 3 (ipykernel)",
   "language": "python",
   "name": "python3"
  },
  "language_info": {
   "codemirror_mode": {
    "name": "ipython",
    "version": 3
   },
   "file_extension": ".py",
   "mimetype": "text/x-python",
   "name": "python",
   "nbconvert_exporter": "python",
   "pygments_lexer": "ipython3",
   "version": "3.12.1"
  }
 },
 "nbformat": 4,
 "nbformat_minor": 5
}
