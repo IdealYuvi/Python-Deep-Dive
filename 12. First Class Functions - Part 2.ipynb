{
 "cells": [
  {
   "cell_type": "markdown",
   "id": "b81249cd-7903-413b-a9c4-214c1e7f1fe6",
   "metadata": {},
   "source": [
    "## **Callables**"
   ]
  },
  {
   "cell_type": "markdown",
   "id": "234e80fe-d5e9-42a4-94e3-0bbbbff81367",
   "metadata": {},
   "source": [
    "Any object that can be called using `()` operator, like functions and methods. <br>\n",
    "Many objects in python are callables."
   ]
  },
  {
   "cell_type": "code",
   "execution_count": 1,
   "id": "b817362c-9f47-4907-a0ff-ac66c748c3b7",
   "metadata": {},
   "outputs": [
    {
     "data": {
      "text/plain": [
       "True"
      ]
     },
     "execution_count": 1,
     "metadata": {},
     "output_type": "execute_result"
    }
   ],
   "source": [
    "callable(print)"
   ]
  },
  {
   "cell_type": "code",
   "execution_count": 2,
   "id": "83859c10-d3ef-4ad2-aec9-18b0969b07b1",
   "metadata": {},
   "outputs": [
    {
     "name": "stdout",
     "output_type": "stream",
     "text": [
      "\n"
     ]
    },
    {
     "data": {
      "text/plain": [
       "False"
      ]
     },
     "execution_count": 2,
     "metadata": {},
     "output_type": "execute_result"
    }
   ],
   "source": [
    "callable(print()) # print is already called in here so its not a callable anymore"
   ]
  },
  {
   "cell_type": "code",
   "execution_count": 3,
   "id": "e0bcc63f-dd16-4bf4-9fe8-3ca4a569165a",
   "metadata": {},
   "outputs": [
    {
     "name": "stdout",
     "output_type": "stream",
     "text": [
      "hello\n",
      "None\n"
     ]
    }
   ],
   "source": [
    "res = print('hello')\n",
    "print(res)"
   ]
  },
  {
   "cell_type": "code",
   "execution_count": 4,
   "id": "91cfc0f5-379f-4d2c-b46f-6e4c61186c76",
   "metadata": {},
   "outputs": [
    {
     "data": {
      "text/plain": [
       "True"
      ]
     },
     "execution_count": 4,
     "metadata": {},
     "output_type": "execute_result"
    }
   ],
   "source": [
    "callable('abc'.upper)"
   ]
  },
  {
   "cell_type": "code",
   "execution_count": 5,
   "id": "93112ff7-4c6e-4acf-8bf0-1a66e2fd418d",
   "metadata": {},
   "outputs": [
    {
     "data": {
      "text/plain": [
       "False"
      ]
     },
     "execution_count": 5,
     "metadata": {},
     "output_type": "execute_result"
    }
   ],
   "source": [
    "callable(10)"
   ]
  },
  {
   "cell_type": "code",
   "execution_count": 6,
   "id": "98b4b383-8389-41de-a203-9a84a8d81b7a",
   "metadata": {},
   "outputs": [],
   "source": [
    "class MyClass:\n",
    "    def __init__(self, x=0):\n",
    "        print('initializing...')\n",
    "        self.counter = x"
   ]
  },
  {
   "cell_type": "code",
   "execution_count": 7,
   "id": "8d872353-0ba7-48ae-ab09-1a004ca44817",
   "metadata": {},
   "outputs": [
    {
     "data": {
      "text/plain": [
       "True"
      ]
     },
     "execution_count": 7,
     "metadata": {},
     "output_type": "execute_result"
    }
   ],
   "source": [
    "callable(MyClass)"
   ]
  },
  {
   "cell_type": "code",
   "execution_count": 8,
   "id": "2da27888-14be-484e-8190-372b73bd08c7",
   "metadata": {},
   "outputs": [
    {
     "name": "stdout",
     "output_type": "stream",
     "text": [
      "initializing...\n"
     ]
    }
   ],
   "source": [
    "a = MyClass(10)"
   ]
  },
  {
   "cell_type": "code",
   "execution_count": 9,
   "id": "9bf1cf7a-d2d9-45de-9ccc-dcf6baf611f0",
   "metadata": {},
   "outputs": [
    {
     "data": {
      "text/plain": [
       "10"
      ]
     },
     "execution_count": 9,
     "metadata": {},
     "output_type": "execute_result"
    }
   ],
   "source": [
    "a.counter"
   ]
  },
  {
   "cell_type": "code",
   "execution_count": 10,
   "id": "62e4c039-7b26-42f7-bdd9-a81c112a349c",
   "metadata": {},
   "outputs": [
    {
     "data": {
      "text/plain": [
       "False"
      ]
     },
     "execution_count": 10,
     "metadata": {},
     "output_type": "execute_result"
    }
   ],
   "source": [
    "callable(a)"
   ]
  },
  {
   "cell_type": "code",
   "execution_count": 11,
   "id": "21a2c228-524c-4ad4-8ce0-899d50f533ed",
   "metadata": {},
   "outputs": [],
   "source": [
    "class MyClass:\n",
    "    def __init__(self, x=0):\n",
    "        print('initializing...')\n",
    "        self.counter = x\n",
    "\n",
    "    def __call__(self, x=1): # this method makes the instance of the class as callable\n",
    "        print('updating counter...')\n",
    "        self.counter += x"
   ]
  },
  {
   "cell_type": "code",
   "execution_count": 12,
   "id": "4da7942d-f168-407e-a786-4d1bdc368a6a",
   "metadata": {},
   "outputs": [
    {
     "name": "stdout",
     "output_type": "stream",
     "text": [
      "initializing...\n"
     ]
    }
   ],
   "source": [
    "b = MyClass()"
   ]
  },
  {
   "cell_type": "code",
   "execution_count": 13,
   "id": "9e51cbe3-45f8-41c7-8dd7-80b86f0b001d",
   "metadata": {},
   "outputs": [
    {
     "data": {
      "text/plain": [
       "True"
      ]
     },
     "execution_count": 13,
     "metadata": {},
     "output_type": "execute_result"
    }
   ],
   "source": [
    "callable(b)"
   ]
  },
  {
   "cell_type": "code",
   "execution_count": 14,
   "id": "bf977212-ef1f-4b35-9a62-ddb7d3199dd8",
   "metadata": {},
   "outputs": [
    {
     "name": "stdout",
     "output_type": "stream",
     "text": [
      "updating counter...\n"
     ]
    }
   ],
   "source": [
    "b()"
   ]
  },
  {
   "cell_type": "code",
   "execution_count": 15,
   "id": "498ca64c-c134-436d-9b1e-7f690c063083",
   "metadata": {},
   "outputs": [
    {
     "name": "stdout",
     "output_type": "stream",
     "text": [
      "updating counter...\n"
     ]
    }
   ],
   "source": [
    "b(100)"
   ]
  },
  {
   "cell_type": "code",
   "execution_count": 16,
   "id": "ca670879-fb7e-4206-9743-314e4a46535a",
   "metadata": {},
   "outputs": [
    {
     "data": {
      "text/plain": [
       "101"
      ]
     },
     "execution_count": 16,
     "metadata": {},
     "output_type": "execute_result"
    }
   ],
   "source": [
    "b.counter"
   ]
  },
  {
   "cell_type": "markdown",
   "id": "a1d265cf-ee7e-4e51-a74d-79629c4813fc",
   "metadata": {},
   "source": [
    "## **Map**"
   ]
  },
  {
   "cell_type": "markdown",
   "id": "46629a1d-eed9-4f7e-a334-bae652adebd7",
   "metadata": {},
   "source": [
    "Map - `map(function, iterables)`, map can take multiple iterables. <br>\n",
    "`map` returns an iterator."
   ]
  },
  {
   "cell_type": "code",
   "execution_count": 17,
   "id": "577ae008-c503-42fe-971e-fcb3bfd584a7",
   "metadata": {},
   "outputs": [],
   "source": [
    "l = [2, 3, 4]"
   ]
  },
  {
   "cell_type": "code",
   "execution_count": 18,
   "id": "ef316460-1944-4ce3-91b3-cc7256950b94",
   "metadata": {},
   "outputs": [],
   "source": [
    "def sq(x):\n",
    "    return x**2"
   ]
  },
  {
   "cell_type": "code",
   "execution_count": 19,
   "id": "a8332278-d550-4c53-96d4-68c61c1984fd",
   "metadata": {},
   "outputs": [
    {
     "data": {
      "text/plain": [
       "<map at 0x199725239a0>"
      ]
     },
     "execution_count": 19,
     "metadata": {},
     "output_type": "execute_result"
    }
   ],
   "source": [
    "map(sq, l)"
   ]
  },
  {
   "cell_type": "code",
   "execution_count": 20,
   "id": "ccf327f3-b8d4-4e62-a13d-b5a6eb03c0d2",
   "metadata": {},
   "outputs": [
    {
     "data": {
      "text/plain": [
       "[4, 9, 16]"
      ]
     },
     "execution_count": 20,
     "metadata": {},
     "output_type": "execute_result"
    }
   ],
   "source": [
    "list(map(sq, l))"
   ]
  },
  {
   "cell_type": "code",
   "execution_count": 21,
   "id": "98cb6cd1-4277-4f71-af54-9a51bbd1cc6a",
   "metadata": {},
   "outputs": [],
   "source": [
    "l1 = [1, 2, 3]\n",
    "l2 = [10, 20, 30]"
   ]
  },
  {
   "cell_type": "code",
   "execution_count": 22,
   "id": "b5758359-bcbc-448b-a3eb-28fc53a37e91",
   "metadata": {},
   "outputs": [
    {
     "data": {
      "text/plain": [
       "[11, 22, 33]"
      ]
     },
     "execution_count": 22,
     "metadata": {},
     "output_type": "execute_result"
    }
   ],
   "source": [
    "list(map(lambda x1, x2: x1 + x2, l1, l2))"
   ]
  },
  {
   "cell_type": "markdown",
   "id": "ddae547c-3647-494f-8c0b-9ed60ada00c4",
   "metadata": {},
   "source": [
    "## **Filter**"
   ]
  },
  {
   "cell_type": "markdown",
   "id": "78eeedf7-ddea-41b3-92a6-01f4eee60a44",
   "metadata": {},
   "source": [
    "Filter - `filter(function, iterable)`, filter returns an iterator. <br>\n",
    "If the `function` is `None`, it simply returns the elements of iterable that are Truthy."
   ]
  },
  {
   "cell_type": "code",
   "execution_count": 23,
   "id": "fe0b2631-19cb-4296-babd-0010b50adf1c",
   "metadata": {},
   "outputs": [],
   "source": [
    "l = [-1, 0, 1, 2, 3, 4]"
   ]
  },
  {
   "cell_type": "code",
   "execution_count": 24,
   "id": "6f7edbf4-8b29-482b-b7b9-76de8afc6b18",
   "metadata": {},
   "outputs": [
    {
     "data": {
      "text/plain": [
       "[-1, 1, 2, 3, 4]"
      ]
     },
     "execution_count": 24,
     "metadata": {},
     "output_type": "execute_result"
    }
   ],
   "source": [
    "list(filter(None, l))"
   ]
  },
  {
   "cell_type": "code",
   "execution_count": 25,
   "id": "fb2a450b-f203-4d5e-9f1b-29d3d3e86d49",
   "metadata": {},
   "outputs": [
    {
     "data": {
      "text/plain": [
       "[0, 2, 4]"
      ]
     },
     "execution_count": 25,
     "metadata": {},
     "output_type": "execute_result"
    }
   ],
   "source": [
    "list(filter(lambda x: x % 2 == 0, l)) # returns even numbers in the list"
   ]
  },
  {
   "cell_type": "markdown",
   "id": "b9448b88-f6fe-4b9b-a6d5-c9a075353ef8",
   "metadata": {},
   "source": [
    "## **Zip**"
   ]
  },
  {
   "cell_type": "markdown",
   "id": "e29dc590-6f04-4136-9539-46a25b867c28",
   "metadata": {},
   "source": [
    "Zip - `zip(*iterables)` <br>\n",
    "`zip` takes multiple iterable objects and clamp them together index by index, stops at the lowest length of iterable. <br>\n",
    "It yields tuples."
   ]
  },
  {
   "cell_type": "code",
   "execution_count": 26,
   "id": "90d4cb97-af1a-455b-a7c1-2c2ae5e51157",
   "metadata": {},
   "outputs": [
    {
     "data": {
      "text/plain": [
       "[(1, 10), (2, 20), (3, 30), (4, 40)]"
      ]
     },
     "execution_count": 26,
     "metadata": {},
     "output_type": "execute_result"
    }
   ],
   "source": [
    "list(zip([1, 2, 3, 4], [10, 20, 30, 40]))"
   ]
  },
  {
   "cell_type": "code",
   "execution_count": 27,
   "id": "ad7c03f1-bc41-4927-aac0-e283b66f74ec",
   "metadata": {},
   "outputs": [
    {
     "data": {
      "text/plain": [
       "[(1, 10, 'a'), (2, 20, 'b'), (3, 30, 'c')]"
      ]
     },
     "execution_count": 27,
     "metadata": {},
     "output_type": "execute_result"
    }
   ],
   "source": [
    "list(zip([1, 2, 3], [10, 20, 30], ['a', 'b', 'c']))"
   ]
  },
  {
   "cell_type": "code",
   "execution_count": 28,
   "id": "18839984-c9f2-4079-ac43-03a2004c27d5",
   "metadata": {},
   "outputs": [
    {
     "data": {
      "text/plain": [
       "[(1, 'a')]"
      ]
     },
     "execution_count": 28,
     "metadata": {},
     "output_type": "execute_result"
    }
   ],
   "source": [
    "list(zip([1, 2, 3, 4, 5], ['a']))"
   ]
  },
  {
   "cell_type": "code",
   "execution_count": 29,
   "id": "b8fe09e6-221c-41fc-b07f-040c98ce5db6",
   "metadata": {},
   "outputs": [
    {
     "data": {
      "text/plain": [
       "[(1, 10, 'p'), (2, 20, 'y'), (3, 30, 't')]"
      ]
     },
     "execution_count": 29,
     "metadata": {},
     "output_type": "execute_result"
    }
   ],
   "source": [
    "l1 = [1, 2, 3]\n",
    "l2 = [10, 20, 30, 40]\n",
    "l3 = 'python'\n",
    "\n",
    "list(zip(l1, l2, l3))"
   ]
  },
  {
   "cell_type": "code",
   "execution_count": 30,
   "id": "96af5848-e3f8-493f-ae68-5670f1d9b928",
   "metadata": {},
   "outputs": [
    {
     "data": {
      "text/plain": [
       "[('a', 0), ('b', 1), ('c', 2), ('d', 3), ('e', 4), ('f', 5)]"
      ]
     },
     "execution_count": 30,
     "metadata": {},
     "output_type": "execute_result"
    }
   ],
   "source": [
    "list(zip('abcdef', range(100)))"
   ]
  },
  {
   "cell_type": "markdown",
   "id": "aab500c9-f21c-4b78-aee6-a50981ccaef3",
   "metadata": {},
   "source": [
    "## **Reducing Functions**"
   ]
  },
  {
   "cell_type": "markdown",
   "id": "b9c7e75d-17d5-453c-84d4-512ab8291bce",
   "metadata": {},
   "source": [
    "These are functions that recombine an iterable recursively, ending up with a single return value. <br>\n",
    "Also called accumulators, aggregators or folding functions."
   ]
  },
  {
   "cell_type": "code",
   "execution_count": 31,
   "id": "cdadb8be-f8ef-45c5-887e-7a4ae538ae2f",
   "metadata": {},
   "outputs": [],
   "source": [
    "from functools import reduce"
   ]
  },
  {
   "cell_type": "code",
   "execution_count": 32,
   "id": "d0dbf304-7dcd-4929-8344-d1e6be44db34",
   "metadata": {},
   "outputs": [],
   "source": [
    "l = [5, 6, 8, 10, 9]"
   ]
  },
  {
   "cell_type": "code",
   "execution_count": 33,
   "id": "acf254b6-2ae4-418e-9de6-23647abd53e1",
   "metadata": {},
   "outputs": [
    {
     "data": {
      "text/plain": [
       "10"
      ]
     },
     "execution_count": 33,
     "metadata": {},
     "output_type": "execute_result"
    }
   ],
   "source": [
    "reduce(lambda a, b: a if a > b else b, l) # gives max value in the list"
   ]
  },
  {
   "cell_type": "code",
   "execution_count": 34,
   "id": "42548fae-2fce-4fde-a578-2a5438ddecbc",
   "metadata": {},
   "outputs": [
    {
     "data": {
      "text/plain": [
       "5"
      ]
     },
     "execution_count": 34,
     "metadata": {},
     "output_type": "execute_result"
    }
   ],
   "source": [
    "reduce(lambda a, b: a if a < b else b, l) # gives min value in the list"
   ]
  },
  {
   "cell_type": "code",
   "execution_count": 35,
   "id": "e4357e13-5a34-4e15-945c-9a488e6ddbb7",
   "metadata": {},
   "outputs": [
    {
     "data": {
      "text/plain": [
       "38"
      ]
     },
     "execution_count": 35,
     "metadata": {},
     "output_type": "execute_result"
    }
   ],
   "source": [
    "reduce(lambda a, b: a + b, l) # gives sum of the list"
   ]
  },
  {
   "cell_type": "code",
   "execution_count": 36,
   "id": "cca17226-b439-41bc-9c3d-a76e2254b5d0",
   "metadata": {},
   "outputs": [
    {
     "data": {
      "text/plain": [
       "24"
      ]
     },
     "execution_count": 36,
     "metadata": {},
     "output_type": "execute_result"
    }
   ],
   "source": [
    "reduce(lambda a, b: a * b, [1, 2, 3, 4]) # gives product of the list"
   ]
  },
  {
   "cell_type": "markdown",
   "id": "216e13eb-d054-4959-9d61-f8b92744d83a",
   "metadata": {},
   "source": [
    "`reduce` works on any iterable"
   ]
  },
  {
   "cell_type": "code",
   "execution_count": 37,
   "id": "07f17026-57c1-4337-8907-fe9b2bf62ccd",
   "metadata": {},
   "outputs": [
    {
     "data": {
      "text/plain": [
       "2"
      ]
     },
     "execution_count": 37,
     "metadata": {},
     "output_type": "execute_result"
    }
   ],
   "source": [
    "reduce(lambda a, b: a if a < b else b, {10, 5, 2, 4})"
   ]
  },
  {
   "cell_type": "code",
   "execution_count": 38,
   "id": "cf863f73-38e6-4bf0-8072-42569bf7e81a",
   "metadata": {},
   "outputs": [
    {
     "data": {
      "text/plain": [
       "'h'"
      ]
     },
     "execution_count": 38,
     "metadata": {},
     "output_type": "execute_result"
    }
   ],
   "source": [
    "reduce(lambda a, b: a if a < b else b, 'python')"
   ]
  },
  {
   "cell_type": "code",
   "execution_count": 39,
   "id": "3b01ddf3-ebc8-4aca-8dc6-1268923286d2",
   "metadata": {},
   "outputs": [
    {
     "data": {
      "text/plain": [
       "'python is awesome!'"
      ]
     },
     "execution_count": 39,
     "metadata": {},
     "output_type": "execute_result"
    }
   ],
   "source": [
    "reduce(lambda a, b: a + ' ' + b, ('python', 'is', 'awesome!'))"
   ]
  },
  {
   "cell_type": "markdown",
   "id": "c8f0a10a-d205-4c40-9eac-18f48f9b0ad3",
   "metadata": {},
   "source": [
    "Some built-in reducing functions in python are,\n",
    "> 1. min\n",
    "> 2. max\n",
    "> 3. sum\n",
    "> 4. any - returns True if any elements in the iterable is True else False\n",
    "> 5. all - returns True if all elements in the iterable is True else False"
   ]
  },
  {
   "cell_type": "code",
   "execution_count": 40,
   "id": "31965395-92d7-4fe9-9bcf-0c113926cfb3",
   "metadata": {},
   "outputs": [
    {
     "data": {
      "text/plain": [
       "True"
      ]
     },
     "execution_count": 40,
     "metadata": {},
     "output_type": "execute_result"
    }
   ],
   "source": [
    "any([0, None, False, 1])"
   ]
  },
  {
   "cell_type": "code",
   "execution_count": 41,
   "id": "b4ef3a03-dd99-41bf-8364-43ed3157766e",
   "metadata": {},
   "outputs": [
    {
     "data": {
      "text/plain": [
       "False"
      ]
     },
     "execution_count": 41,
     "metadata": {},
     "output_type": "execute_result"
    }
   ],
   "source": [
    "any([0, None])"
   ]
  },
  {
   "cell_type": "code",
   "execution_count": 42,
   "id": "f427fd9b-8d9a-4996-b9ca-00c647f56e54",
   "metadata": {},
   "outputs": [
    {
     "data": {
      "text/plain": [
       "False"
      ]
     },
     "execution_count": 42,
     "metadata": {},
     "output_type": "execute_result"
    }
   ],
   "source": [
    "all([10, 8, 7, 0])"
   ]
  },
  {
   "cell_type": "code",
   "execution_count": 43,
   "id": "d7f5e038-756b-46b7-b76f-7a0ddf251494",
   "metadata": {},
   "outputs": [
    {
     "data": {
      "text/plain": [
       "True"
      ]
     },
     "execution_count": 43,
     "metadata": {},
     "output_type": "execute_result"
    }
   ],
   "source": [
    "all([1, 2, 3, 4])"
   ]
  },
  {
   "cell_type": "markdown",
   "id": "28ce9610-b5b7-4830-940b-35f284f7543b",
   "metadata": {},
   "source": [
    "## **Partial Functions**"
   ]
  },
  {
   "cell_type": "code",
   "execution_count": 44,
   "id": "62009a9e-5520-46fd-ad0c-13ac19c2ca8e",
   "metadata": {},
   "outputs": [],
   "source": [
    "from functools import partial"
   ]
  },
  {
   "cell_type": "code",
   "execution_count": 45,
   "id": "c667649c-21ef-4c43-b2c9-e39a7b2c746e",
   "metadata": {},
   "outputs": [],
   "source": [
    "def my_func(a, b, c):\n",
    "    print(a, b, c)"
   ]
  },
  {
   "cell_type": "code",
   "execution_count": 46,
   "id": "763b45b9-8b70-4380-8308-6379040623fa",
   "metadata": {},
   "outputs": [
    {
     "name": "stdout",
     "output_type": "stream",
     "text": [
      "1 2 3\n"
     ]
    }
   ],
   "source": [
    "my_func(1, 2, 3)"
   ]
  },
  {
   "cell_type": "code",
   "execution_count": 47,
   "id": "ae3e396e-0dfb-490a-9433-77e7cfb7a1b4",
   "metadata": {},
   "outputs": [],
   "source": [
    "def f(x, y):\n",
    "    return my_func(10, x, y)"
   ]
  },
  {
   "cell_type": "code",
   "execution_count": 48,
   "id": "575706c1-9b52-4622-bd86-79d9d1a0e3f2",
   "metadata": {},
   "outputs": [
    {
     "name": "stdout",
     "output_type": "stream",
     "text": [
      "10 20 30\n"
     ]
    }
   ],
   "source": [
    "f(20, 30)"
   ]
  },
  {
   "cell_type": "code",
   "execution_count": 49,
   "id": "756248cb-3ecf-4fe6-b3ac-962d77f163d0",
   "metadata": {},
   "outputs": [],
   "source": [
    "f = partial(my_func, 100) # passes 100 to first argument in my_func"
   ]
  },
  {
   "cell_type": "code",
   "execution_count": 50,
   "id": "36cc9fa9-b799-4b62-bfa5-2d6af3511183",
   "metadata": {},
   "outputs": [
    {
     "name": "stdout",
     "output_type": "stream",
     "text": [
      "100 20 30\n"
     ]
    }
   ],
   "source": [
    "f(20, 30)"
   ]
  },
  {
   "cell_type": "code",
   "execution_count": 51,
   "id": "982f4768-a183-4d7e-9e74-a1936ff31333",
   "metadata": {},
   "outputs": [],
   "source": [
    "f = partial(my_func, 100, 20) # passes 100 to first, 20 to 2nd argument in my_func"
   ]
  },
  {
   "cell_type": "code",
   "execution_count": 52,
   "id": "8fe4ffd0-2aeb-452e-bfb6-1d133ad233bc",
   "metadata": {},
   "outputs": [
    {
     "name": "stdout",
     "output_type": "stream",
     "text": [
      "100 20 10\n"
     ]
    }
   ],
   "source": [
    "f(10)"
   ]
  },
  {
   "cell_type": "code",
   "execution_count": 53,
   "id": "372a7412-f770-4080-abd2-5e637454f38c",
   "metadata": {},
   "outputs": [],
   "source": [
    "def my_func(a, b, *args, k1, k2, **kwargs):\n",
    "    print(a, b, args, k1, k2, kwargs)"
   ]
  },
  {
   "cell_type": "code",
   "execution_count": 54,
   "id": "89a22c10-9857-4612-b904-e2a819cfe121",
   "metadata": {},
   "outputs": [
    {
     "name": "stdout",
     "output_type": "stream",
     "text": [
      "10 20 (100, 200) a b {'k3': 1000, 'k4': 2000}\n"
     ]
    }
   ],
   "source": [
    "my_func(10, 20, 100, 200, k1='a', k2='b', k3=1000, k4=2000)"
   ]
  },
  {
   "cell_type": "code",
   "execution_count": 55,
   "id": "b1c5a290-2f87-43ff-8ff4-a5c0574a3d82",
   "metadata": {},
   "outputs": [],
   "source": [
    "f = partial(my_func, 10, k1='a')"
   ]
  },
  {
   "cell_type": "code",
   "execution_count": 56,
   "id": "7534590a-b72e-4950-ada9-5b83ba451727",
   "metadata": {},
   "outputs": [
    {
     "name": "stdout",
     "output_type": "stream",
     "text": [
      "10 20 (100, 200) a b {'k3': 1000, 'k4': 2000}\n"
     ]
    }
   ],
   "source": [
    "f(20, 100, 200, k2='b', k3=1000, k4=2000)"
   ]
  },
  {
   "cell_type": "code",
   "execution_count": 57,
   "id": "d60a7e96-5d18-41a8-8948-ac1404d96e8e",
   "metadata": {},
   "outputs": [],
   "source": [
    "def pow(base, exponent):\n",
    "    return base ** exponent"
   ]
  },
  {
   "cell_type": "code",
   "execution_count": 58,
   "id": "7b3888b2-6c40-41bd-91f0-ca87db993470",
   "metadata": {},
   "outputs": [],
   "source": [
    "sq = partial(pow, exponent=2)"
   ]
  },
  {
   "cell_type": "code",
   "execution_count": 59,
   "id": "63fd6600-8cd7-4eee-8596-343419744f24",
   "metadata": {},
   "outputs": [
    {
     "data": {
      "text/plain": [
       "25"
      ]
     },
     "execution_count": 59,
     "metadata": {},
     "output_type": "execute_result"
    }
   ],
   "source": [
    "sq(5)"
   ]
  },
  {
   "cell_type": "code",
   "execution_count": 60,
   "id": "7cbd46cf-7594-4e7d-9557-14c469f561b7",
   "metadata": {},
   "outputs": [],
   "source": [
    "cu = partial(pow, exponent=3)"
   ]
  },
  {
   "cell_type": "code",
   "execution_count": 61,
   "id": "ae3d4f81-dbe9-4c76-938e-f8c69e322f95",
   "metadata": {},
   "outputs": [
    {
     "data": {
      "text/plain": [
       "125"
      ]
     },
     "execution_count": 61,
     "metadata": {},
     "output_type": "execute_result"
    }
   ],
   "source": [
    "cu(5)"
   ]
  },
  {
   "cell_type": "code",
   "execution_count": null,
   "id": "be37288a-b7ee-4d7c-a3f5-5d8d3aeb3bbb",
   "metadata": {},
   "outputs": [],
   "source": []
  }
 ],
 "metadata": {
  "kernelspec": {
   "display_name": "Python 3 (ipykernel)",
   "language": "python",
   "name": "python3"
  },
  "language_info": {
   "codemirror_mode": {
    "name": "ipython",
    "version": 3
   },
   "file_extension": ".py",
   "mimetype": "text/x-python",
   "name": "python",
   "nbconvert_exporter": "python",
   "pygments_lexer": "ipython3",
   "version": "3.12.1"
  }
 },
 "nbformat": 4,
 "nbformat_minor": 5
}
