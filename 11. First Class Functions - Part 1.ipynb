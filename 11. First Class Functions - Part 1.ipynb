{
 "cells": [
  {
   "cell_type": "markdown",
   "id": "01c4de65-56bd-4879-be77-0f3118ff6c75",
   "metadata": {},
   "source": [
    "## **Docstrings and Annotations**"
   ]
  },
  {
   "cell_type": "markdown",
   "id": "c4d2744c-ded2-4b1b-a05d-daa34e1915f3",
   "metadata": {},
   "source": [
    "Docstrings are stored in the function's `__doc__` property. <br>\n",
    "Annotations are stored in the function's `__annotations__` property."
   ]
  },
  {
   "cell_type": "code",
   "execution_count": 1,
   "id": "09e0bef6-f8c7-419e-824e-e3b87c4a336f",
   "metadata": {},
   "outputs": [],
   "source": [
    "def my_func(a, b=1):\n",
    "    '''\n",
    "    This is a doctring of this function,\n",
    "    you should write someting useful about respected the function here.\n",
    "    '''\n",
    "    return a * b"
   ]
  },
  {
   "cell_type": "code",
   "execution_count": 2,
   "id": "d5218995-275f-4db5-ad19-ca9370bafb8d",
   "metadata": {},
   "outputs": [
    {
     "name": "stdout",
     "output_type": "stream",
     "text": [
      "Help on function my_func in module __main__:\n",
      "\n",
      "my_func(a, b=1)\n",
      "    This is a doctring of this function,\n",
      "    you should write someting useful about respected the function here.\n",
      "\n"
     ]
    }
   ],
   "source": [
    "help(my_func)"
   ]
  },
  {
   "cell_type": "code",
   "execution_count": 3,
   "id": "adac713b-1482-4422-bbc8-bcf5b2d585a3",
   "metadata": {},
   "outputs": [
    {
     "data": {
      "text/plain": [
       "'\\n    This is a doctring of this function,\\n    you should write someting useful about respected the function here.\\n    '"
      ]
     },
     "execution_count": 3,
     "metadata": {},
     "output_type": "execute_result"
    }
   ],
   "source": [
    "my_func.__doc__"
   ]
  },
  {
   "cell_type": "code",
   "execution_count": 4,
   "id": "27ff2184-bec8-4934-9dfa-9e8d4f489e7b",
   "metadata": {},
   "outputs": [],
   "source": [
    "def my_func(a: 'annotation for a', b: 'annotation for b') -> 'returns something':\n",
    "    'We can also use single quotes to create this docstring but it is customary to use triple quotes.'\n",
    "    return a * b"
   ]
  },
  {
   "cell_type": "code",
   "execution_count": 5,
   "id": "c7925812-20e1-438c-9f6b-4c1d060d3331",
   "metadata": {},
   "outputs": [
    {
     "name": "stdout",
     "output_type": "stream",
     "text": [
      "Help on function my_func in module __main__:\n",
      "\n",
      "my_func(a: 'annotation for a', b: 'annotation for b') -> 'returns something'\n",
      "    We can also use single quotes to create this docstring but it is customary to use triple quotes.\n",
      "\n"
     ]
    }
   ],
   "source": [
    "help(my_func)"
   ]
  },
  {
   "cell_type": "code",
   "execution_count": 6,
   "id": "3218f060-71f9-4807-a1d7-d8c6a3170f64",
   "metadata": {},
   "outputs": [
    {
     "data": {
      "text/plain": [
       "{'a': 'annotation for a',\n",
       " 'b': 'annotation for b',\n",
       " 'return': 'returns something'}"
      ]
     },
     "execution_count": 6,
     "metadata": {},
     "output_type": "execute_result"
    }
   ],
   "source": [
    "my_func.__annotations__"
   ]
  },
  {
   "cell_type": "code",
   "execution_count": 7,
   "id": "997ab485-6e5b-479b-a825-06ec51c740a5",
   "metadata": {},
   "outputs": [],
   "source": [
    "x = 3\n",
    "y = 5\n",
    "def my_func(a: 'some character') -> f'character a repeated {max(x, y)} times':\n",
    "    return a * max(x, y)"
   ]
  },
  {
   "cell_type": "code",
   "execution_count": 8,
   "id": "c521b640-7539-495e-81ad-a6ccefa8cd9c",
   "metadata": {},
   "outputs": [
    {
     "data": {
      "text/plain": [
       "'aaaaa'"
      ]
     },
     "execution_count": 8,
     "metadata": {},
     "output_type": "execute_result"
    }
   ],
   "source": [
    "my_func('a')"
   ]
  },
  {
   "cell_type": "code",
   "execution_count": 9,
   "id": "8f874399-910a-448e-a419-22e807a2e503",
   "metadata": {},
   "outputs": [
    {
     "data": {
      "text/plain": [
       "{'a': 'some character', 'return': 'character a repeated 5 times'}"
      ]
     },
     "execution_count": 9,
     "metadata": {},
     "output_type": "execute_result"
    }
   ],
   "source": [
    "my_func.__annotations__ # annotations get evaluated only once, so later if value changes, it won't show up here"
   ]
  },
  {
   "cell_type": "code",
   "execution_count": 10,
   "id": "373a4d42-6e3e-4e5f-9bce-20c86ec14bbc",
   "metadata": {},
   "outputs": [],
   "source": [
    "def my_func(a: str,\n",
    "            b: 'int > 0' = 1,\n",
    "            *args: 'some extra positional args',\n",
    "            k1: 'keyword-only arg 1',\n",
    "            k2: 'keyword-only arg 2' = 100,\n",
    "            **kwargs: 'some extra keyword-only args') -> 'something':\n",
    "    print(a, b, args, k1, k2, kwargs)"
   ]
  },
  {
   "cell_type": "code",
   "execution_count": 11,
   "id": "0de9e22a-1948-4f8a-88bb-5cef891e837b",
   "metadata": {},
   "outputs": [
    {
     "name": "stdout",
     "output_type": "stream",
     "text": [
      "Help on function my_func in module __main__:\n",
      "\n",
      "my_func(a: str, b: 'int > 0' = 1, *args: 'some extra positional args', k1: 'keyword-only arg 1', k2: 'keyword-only arg 2' = 100, **kwargs: 'some extra keyword-only args') -> 'something'\n",
      "\n"
     ]
    }
   ],
   "source": [
    "help(my_func)"
   ]
  },
  {
   "cell_type": "code",
   "execution_count": 12,
   "id": "aa1747a0-7673-43d6-8557-c5e5ce0e8404",
   "metadata": {},
   "outputs": [
    {
     "data": {
      "text/plain": [
       "{'a': str,\n",
       " 'b': 'int > 0',\n",
       " 'args': 'some extra positional args',\n",
       " 'k1': 'keyword-only arg 1',\n",
       " 'k2': 'keyword-only arg 2',\n",
       " 'kwargs': 'some extra keyword-only args',\n",
       " 'return': 'something'}"
      ]
     },
     "execution_count": 12,
     "metadata": {},
     "output_type": "execute_result"
    }
   ],
   "source": [
    "my_func.__annotations__"
   ]
  },
  {
   "cell_type": "code",
   "execution_count": 13,
   "id": "e6bbac02-95b4-4842-b922-437c5d124681",
   "metadata": {},
   "outputs": [
    {
     "name": "stdout",
     "output_type": "stream",
     "text": [
      "1 2 (3, 4, 5) 10 100 {'k3': 300, 'k4': 400}\n"
     ]
    }
   ],
   "source": [
    "my_func(1, 2, 3, 4, 5, k1=10, k3=300, k4=400)"
   ]
  },
  {
   "cell_type": "markdown",
   "id": "c60e74d8-fe6e-479c-9af1-db19320efe5d",
   "metadata": {},
   "source": [
    "## **Lambda Expressions**"
   ]
  },
  {
   "cell_type": "code",
   "execution_count": 14,
   "id": "93cd776d-6f0b-4ca4-8290-674492854802",
   "metadata": {},
   "outputs": [
    {
     "data": {
      "text/plain": [
       "<function __main__.<lambda>(x)>"
      ]
     },
     "execution_count": 14,
     "metadata": {},
     "output_type": "execute_result"
    }
   ],
   "source": [
    "lambda x: x**2"
   ]
  },
  {
   "cell_type": "code",
   "execution_count": 15,
   "id": "18d4219f-ddff-4f2c-9c89-63bd3f409e0e",
   "metadata": {},
   "outputs": [],
   "source": [
    "f = lambda x: x**2"
   ]
  },
  {
   "cell_type": "code",
   "execution_count": 16,
   "id": "1e5c1fee-a1ad-4992-9088-70843939eb2d",
   "metadata": {},
   "outputs": [
    {
     "data": {
      "text/plain": [
       "<function __main__.<lambda>(x)>"
      ]
     },
     "execution_count": 16,
     "metadata": {},
     "output_type": "execute_result"
    }
   ],
   "source": [
    "f"
   ]
  },
  {
   "cell_type": "code",
   "execution_count": 17,
   "id": "c33bd8a5-ed46-41cc-b3a8-6f1c0a585ed0",
   "metadata": {},
   "outputs": [
    {
     "data": {
      "text/plain": [
       "9"
      ]
     },
     "execution_count": 17,
     "metadata": {},
     "output_type": "execute_result"
    }
   ],
   "source": [
    "f(3)"
   ]
  },
  {
   "cell_type": "code",
   "execution_count": 18,
   "id": "d19d83ff-9823-412f-895a-de701c71e940",
   "metadata": {},
   "outputs": [],
   "source": [
    "f = lambda x, *args, y, **kwargs: (x, *args, y, kwargs)"
   ]
  },
  {
   "cell_type": "code",
   "execution_count": 19,
   "id": "d255e8aa-141c-41a8-9251-ba025186117e",
   "metadata": {},
   "outputs": [
    {
     "data": {
      "text/plain": [
       "(1, 'a', 'b', 100, {'a': 10, 'b': 20})"
      ]
     },
     "execution_count": 19,
     "metadata": {},
     "output_type": "execute_result"
    }
   ],
   "source": [
    "f(1, 'a', 'b', y=100, a=10, b=20)"
   ]
  },
  {
   "cell_type": "code",
   "execution_count": 20,
   "id": "c11fbc64-bd71-4fd9-b90e-4e44cf1c36ab",
   "metadata": {},
   "outputs": [],
   "source": [
    "def apply_func(x, fn):\n",
    "    return fn(x)"
   ]
  },
  {
   "cell_type": "code",
   "execution_count": 21,
   "id": "fd8a5a21-a366-4ccc-84df-bfbf285fbd67",
   "metadata": {},
   "outputs": [
    {
     "data": {
      "text/plain": [
       "25"
      ]
     },
     "execution_count": 21,
     "metadata": {},
     "output_type": "execute_result"
    }
   ],
   "source": [
    "apply_func(5, lambda x: x**2)"
   ]
  },
  {
   "cell_type": "code",
   "execution_count": 22,
   "id": "5fba2d16-7036-4124-95b1-361e45008819",
   "metadata": {},
   "outputs": [],
   "source": [
    "l = ['B', 'a', 'D', 'c']"
   ]
  },
  {
   "cell_type": "code",
   "execution_count": 23,
   "id": "226104da-37dd-4feb-8a2c-306486cd9c8f",
   "metadata": {},
   "outputs": [
    {
     "data": {
      "text/plain": [
       "['B', 'D', 'a', 'c']"
      ]
     },
     "execution_count": 23,
     "metadata": {},
     "output_type": "execute_result"
    }
   ],
   "source": [
    "sorted(l)"
   ]
  },
  {
   "cell_type": "markdown",
   "id": "314a52f3-5f3d-44cc-8948-d5adb477c618",
   "metadata": {},
   "source": [
    "Here we can see 'a' comes after 'B' & 'D' because the ascii value of 'a' is 97 while 'A' starts from 65"
   ]
  },
  {
   "cell_type": "code",
   "execution_count": 24,
   "id": "dec69c1a-fbd6-436b-85b3-862c66e7215e",
   "metadata": {},
   "outputs": [
    {
     "data": {
      "text/plain": [
       "97"
      ]
     },
     "execution_count": 24,
     "metadata": {},
     "output_type": "execute_result"
    }
   ],
   "source": [
    "ord('a')"
   ]
  },
  {
   "cell_type": "code",
   "execution_count": 25,
   "id": "8490e638-f878-4e8f-ae22-ea8eed6dfcaa",
   "metadata": {},
   "outputs": [
    {
     "data": {
      "text/plain": [
       "66"
      ]
     },
     "execution_count": 25,
     "metadata": {},
     "output_type": "execute_result"
    }
   ],
   "source": [
    "ord('B')"
   ]
  },
  {
   "cell_type": "markdown",
   "id": "cd88f2dc-e926-4ad5-9fa2-93ffc8ebcd5a",
   "metadata": {},
   "source": [
    "So to sort the list irrespective of upper/lower case, we can do something like this,"
   ]
  },
  {
   "cell_type": "code",
   "execution_count": 26,
   "id": "243f0741-be25-48bb-a899-92457833a128",
   "metadata": {},
   "outputs": [
    {
     "data": {
      "text/plain": [
       "['a', 'B', 'c', 'D']"
      ]
     },
     "execution_count": 26,
     "metadata": {},
     "output_type": "execute_result"
    }
   ],
   "source": [
    "sorted(l, key=lambda s: s.upper())"
   ]
  },
  {
   "cell_type": "markdown",
   "id": "6a18baf1-ce4b-48ac-a1b6-827d603e6145",
   "metadata": {},
   "source": [
    "The key argument of `sorted` takes in a function that associates each element with it and then sort the list by that."
   ]
  },
  {
   "cell_type": "code",
   "execution_count": 27,
   "id": "36ac7ced-f4bb-416c-b90a-f2dfa16f4f03",
   "metadata": {},
   "outputs": [],
   "source": [
    "d = {'def': 300, 'abc': 200, 'ghi': 100}"
   ]
  },
  {
   "cell_type": "code",
   "execution_count": 28,
   "id": "5225fe2d-03e8-4cfc-8296-e9fc86983f97",
   "metadata": {},
   "outputs": [
    {
     "data": {
      "text/plain": [
       "['abc', 'def', 'ghi']"
      ]
     },
     "execution_count": 28,
     "metadata": {},
     "output_type": "execute_result"
    }
   ],
   "source": [
    "sorted(d) # takes keys out of d, sorts and puts in a list"
   ]
  },
  {
   "cell_type": "code",
   "execution_count": 29,
   "id": "725f7f01-16f9-4b3a-8e87-d62d99d0d0e3",
   "metadata": {},
   "outputs": [
    {
     "data": {
      "text/plain": [
       "['ghi', 'abc', 'def']"
      ]
     },
     "execution_count": 29,
     "metadata": {},
     "output_type": "execute_result"
    }
   ],
   "source": [
    "sorted(d, key=lambda x:d[x]) # sorts based on value of keys in d"
   ]
  },
  {
   "cell_type": "code",
   "execution_count": 30,
   "id": "fb7a28f0-d4c4-4e41-8439-9eacae69a47e",
   "metadata": {},
   "outputs": [],
   "source": [
    "l = ['Cheese', 'Idle', 'Palin', 'Chapman', 'Gilliam', 'Jones']"
   ]
  },
  {
   "cell_type": "code",
   "execution_count": 31,
   "id": "52e83194-6957-4da1-89ed-19a294413043",
   "metadata": {},
   "outputs": [
    {
     "data": {
      "text/plain": [
       "['Cheese', 'Idle', 'Gilliam', 'Palin', 'Chapman', 'Jones']"
      ]
     },
     "execution_count": 31,
     "metadata": {},
     "output_type": "execute_result"
    }
   ],
   "source": [
    "sorted(l, key=lambda s: s[-1])\n",
    "# sorts based on last letter\n",
    "# if two values are equal then their order in the sorted list is same as their order in the original list "
   ]
  },
  {
   "cell_type": "markdown",
   "id": "d65ef3f5-8f4c-4428-9aa7-90cda6997b57",
   "metadata": {},
   "source": [
    "Funny enough, we can randomize an Iterable using Sorted,"
   ]
  },
  {
   "cell_type": "code",
   "execution_count": 32,
   "id": "ac4d9b07-bf73-4396-8a4e-64cb80dfb254",
   "metadata": {},
   "outputs": [],
   "source": [
    "import random"
   ]
  },
  {
   "cell_type": "code",
   "execution_count": 33,
   "id": "d39df4ed-1af1-4bfc-9d7f-68a017406577",
   "metadata": {},
   "outputs": [],
   "source": [
    "sl = [1, 2, 3, 4, 5, 6, 7]"
   ]
  },
  {
   "cell_type": "code",
   "execution_count": 34,
   "id": "406482e1-d0e2-4cc9-9761-cb563c7e7305",
   "metadata": {},
   "outputs": [
    {
     "data": {
      "text/plain": [
       "[1, 2, 3, 4, 5, 6, 7]"
      ]
     },
     "execution_count": 34,
     "metadata": {},
     "output_type": "execute_result"
    }
   ],
   "source": [
    "sorted(sl)"
   ]
  },
  {
   "cell_type": "code",
   "execution_count": 35,
   "id": "dced369d-aeab-4747-9711-daf6d3fa24f5",
   "metadata": {},
   "outputs": [
    {
     "data": {
      "text/plain": [
       "[3, 1, 4, 6, 5, 2, 7]"
      ]
     },
     "execution_count": 35,
     "metadata": {},
     "output_type": "execute_result"
    }
   ],
   "source": [
    "sorted(sl, key=lambda x: random.random())"
   ]
  },
  {
   "cell_type": "markdown",
   "id": "7525639b-d886-4368-8ae1-748e0e77aea3",
   "metadata": {},
   "source": [
    "## **Function Introspection**"
   ]
  },
  {
   "cell_type": "code",
   "execution_count": 36,
   "id": "423412f7-7093-41a8-84c7-0479ca0e50a3",
   "metadata": {},
   "outputs": [],
   "source": [
    "def my_func(a: 'mandatory positional', \n",
    "            b: 'optional positional' = 1,\n",
    "            c=2,\n",
    "            *args: 'add extra positional here',\n",
    "            kw1,\n",
    "            kw2=100,\n",
    "            kw3=200,\n",
    "            **kwargs: 'provide extra kw only here') -> 'does nothing':\n",
    "    '''\n",
    "    This function does nothing but got various parameters and annotations.\n",
    "    '''\n",
    "    i = 10\n",
    "    j = 20"
   ]
  },
  {
   "cell_type": "code",
   "execution_count": 37,
   "id": "cf5f52db-becf-424e-875a-33c70b1a5d8d",
   "metadata": {},
   "outputs": [
    {
     "data": {
      "text/plain": [
       "'\\n    This function does nothing but got various parameters and annotations.\\n    '"
      ]
     },
     "execution_count": 37,
     "metadata": {},
     "output_type": "execute_result"
    }
   ],
   "source": [
    "my_func.__doc__"
   ]
  },
  {
   "cell_type": "code",
   "execution_count": 38,
   "id": "b1595d8d-8d8a-4da7-b260-953185a19c1d",
   "metadata": {},
   "outputs": [
    {
     "data": {
      "text/plain": [
       "{'a': 'mandatory positional',\n",
       " 'b': 'optional positional',\n",
       " 'args': 'add extra positional here',\n",
       " 'kwargs': 'provide extra kw only here',\n",
       " 'return': 'does nothing'}"
      ]
     },
     "execution_count": 38,
     "metadata": {},
     "output_type": "execute_result"
    }
   ],
   "source": [
    "my_func.__annotations__"
   ]
  },
  {
   "cell_type": "code",
   "execution_count": 39,
   "id": "a92a8e35-97d4-49df-be90-f47cdc956e1f",
   "metadata": {},
   "outputs": [],
   "source": [
    "my_func.short_description = 'this is a function that does nothing' # we're adding custom attribute to function"
   ]
  },
  {
   "cell_type": "code",
   "execution_count": 40,
   "id": "ef92bdb8-ec74-4df4-b7b2-5ef898289b20",
   "metadata": {},
   "outputs": [
    {
     "data": {
      "text/plain": [
       "'this is a function that does nothing'"
      ]
     },
     "execution_count": 40,
     "metadata": {},
     "output_type": "execute_result"
    }
   ],
   "source": [
    "my_func.short_description"
   ]
  },
  {
   "cell_type": "code",
   "execution_count": 41,
   "id": "8507466e-dc27-49e3-834a-9bb8f932fd8d",
   "metadata": {},
   "outputs": [
    {
     "data": {
      "text/plain": [
       "['__annotations__',\n",
       " '__builtins__',\n",
       " '__call__',\n",
       " '__class__',\n",
       " '__closure__',\n",
       " '__code__',\n",
       " '__defaults__',\n",
       " '__delattr__',\n",
       " '__dict__',\n",
       " '__dir__',\n",
       " '__doc__',\n",
       " '__eq__',\n",
       " '__format__',\n",
       " '__ge__',\n",
       " '__get__',\n",
       " '__getattribute__',\n",
       " '__getstate__',\n",
       " '__globals__',\n",
       " '__gt__',\n",
       " '__hash__',\n",
       " '__init__',\n",
       " '__init_subclass__',\n",
       " '__kwdefaults__',\n",
       " '__le__',\n",
       " '__lt__',\n",
       " '__module__',\n",
       " '__name__',\n",
       " '__ne__',\n",
       " '__new__',\n",
       " '__qualname__',\n",
       " '__reduce__',\n",
       " '__reduce_ex__',\n",
       " '__repr__',\n",
       " '__setattr__',\n",
       " '__sizeof__',\n",
       " '__str__',\n",
       " '__subclasshook__',\n",
       " '__type_params__',\n",
       " 'short_description']"
      ]
     },
     "execution_count": 41,
     "metadata": {},
     "output_type": "execute_result"
    }
   ],
   "source": [
    "dir(my_func) \n",
    "# The dir() function returns all properties and methods of the specified object, without the values. \n",
    "# We can see short_description is added to the directory of my_func"
   ]
  },
  {
   "cell_type": "code",
   "execution_count": 42,
   "id": "fa19e8d1-b808-41d0-b66d-27b9215c09bb",
   "metadata": {},
   "outputs": [
    {
     "data": {
      "text/plain": [
       "'my_func'"
      ]
     },
     "execution_count": 42,
     "metadata": {},
     "output_type": "execute_result"
    }
   ],
   "source": [
    "my_func.__name__"
   ]
  },
  {
   "cell_type": "code",
   "execution_count": 43,
   "id": "3af7faf5-5c32-44fa-847d-31437b44179a",
   "metadata": {},
   "outputs": [
    {
     "data": {
      "text/plain": [
       "<code object my_func at 0x0000020499763430, file \"C:\\Users\\Yuvaraj\\AppData\\Local\\Temp\\ipykernel_7928\\2682133007.py\", line 1>"
      ]
     },
     "execution_count": 43,
     "metadata": {},
     "output_type": "execute_result"
    }
   ],
   "source": [
    "my_func.__code__"
   ]
  },
  {
   "cell_type": "code",
   "execution_count": 44,
   "id": "cd9a0e8c-d9b8-46cd-97ff-75577719db43",
   "metadata": {},
   "outputs": [
    {
     "data": {
      "text/plain": [
       "['__class__',\n",
       " '__delattr__',\n",
       " '__dir__',\n",
       " '__doc__',\n",
       " '__eq__',\n",
       " '__format__',\n",
       " '__ge__',\n",
       " '__getattribute__',\n",
       " '__getstate__',\n",
       " '__gt__',\n",
       " '__hash__',\n",
       " '__init__',\n",
       " '__init_subclass__',\n",
       " '__le__',\n",
       " '__lt__',\n",
       " '__ne__',\n",
       " '__new__',\n",
       " '__reduce__',\n",
       " '__reduce_ex__',\n",
       " '__repr__',\n",
       " '__setattr__',\n",
       " '__sizeof__',\n",
       " '__str__',\n",
       " '__subclasshook__',\n",
       " '_co_code_adaptive',\n",
       " '_varname_from_oparg',\n",
       " 'co_argcount',\n",
       " 'co_cellvars',\n",
       " 'co_code',\n",
       " 'co_consts',\n",
       " 'co_exceptiontable',\n",
       " 'co_filename',\n",
       " 'co_firstlineno',\n",
       " 'co_flags',\n",
       " 'co_freevars',\n",
       " 'co_kwonlyargcount',\n",
       " 'co_lines',\n",
       " 'co_linetable',\n",
       " 'co_lnotab',\n",
       " 'co_name',\n",
       " 'co_names',\n",
       " 'co_nlocals',\n",
       " 'co_positions',\n",
       " 'co_posonlyargcount',\n",
       " 'co_qualname',\n",
       " 'co_stacksize',\n",
       " 'co_varnames',\n",
       " 'replace']"
      ]
     },
     "execution_count": 44,
     "metadata": {},
     "output_type": "execute_result"
    }
   ],
   "source": [
    "dir(my_func.__code__)"
   ]
  },
  {
   "cell_type": "code",
   "execution_count": 45,
   "id": "71128a9c-2ec5-44a5-8285-48daffd277b1",
   "metadata": {},
   "outputs": [
    {
     "data": {
      "text/plain": [
       "'my_func'"
      ]
     },
     "execution_count": 45,
     "metadata": {},
     "output_type": "execute_result"
    }
   ],
   "source": [
    "my_func.__code__.co_name"
   ]
  },
  {
   "cell_type": "code",
   "execution_count": 46,
   "id": "29314a6a-0287-4384-91be-efefd8b70936",
   "metadata": {},
   "outputs": [
    {
     "data": {
      "text/plain": [
       "('a', 'b', 'c', 'kw1', 'kw2', 'kw3', 'args', 'kwargs', 'i', 'j')"
      ]
     },
     "execution_count": 46,
     "metadata": {},
     "output_type": "execute_result"
    }
   ],
   "source": [
    "my_func.__code__.co_varnames"
   ]
  },
  {
   "cell_type": "code",
   "execution_count": 47,
   "id": "43cd518c-d4c4-4fcb-ac14-c2f8fee910db",
   "metadata": {},
   "outputs": [
    {
     "data": {
      "text/plain": [
       "3"
      ]
     },
     "execution_count": 47,
     "metadata": {},
     "output_type": "execute_result"
    }
   ],
   "source": [
    "my_func.__code__.co_argcount # only gives positional arguments"
   ]
  },
  {
   "cell_type": "code",
   "execution_count": 48,
   "id": "c60c9851-bd63-4c0e-b526-4f8d42d072d4",
   "metadata": {},
   "outputs": [],
   "source": [
    "import inspect"
   ]
  },
  {
   "cell_type": "code",
   "execution_count": 49,
   "id": "b2c56834-4964-4706-ab18-3b7bf10c8761",
   "metadata": {},
   "outputs": [],
   "source": [
    "from inspect import isfunction, ismethod"
   ]
  },
  {
   "cell_type": "code",
   "execution_count": 50,
   "id": "90468a47-a911-4e70-bd79-3180fac84bca",
   "metadata": {},
   "outputs": [],
   "source": [
    "a = 10"
   ]
  },
  {
   "cell_type": "code",
   "execution_count": 51,
   "id": "551f64ef-2fa4-456b-a457-6a83221b1a66",
   "metadata": {},
   "outputs": [
    {
     "data": {
      "text/plain": [
       "False"
      ]
     },
     "execution_count": 51,
     "metadata": {},
     "output_type": "execute_result"
    }
   ],
   "source": [
    "isfunction(a)"
   ]
  },
  {
   "cell_type": "code",
   "execution_count": 52,
   "id": "b3d18492-c194-4377-b7cc-001475c078e2",
   "metadata": {},
   "outputs": [
    {
     "data": {
      "text/plain": [
       "True"
      ]
     },
     "execution_count": 52,
     "metadata": {},
     "output_type": "execute_result"
    }
   ],
   "source": [
    "isfunction(my_func)"
   ]
  },
  {
   "cell_type": "code",
   "execution_count": 53,
   "id": "32f155c0-bef4-4c57-9f23-42001b2518f1",
   "metadata": {},
   "outputs": [
    {
     "data": {
      "text/plain": [
       "False"
      ]
     },
     "execution_count": 53,
     "metadata": {},
     "output_type": "execute_result"
    }
   ],
   "source": [
    "ismethod(my_func) # methods are bound to an object, my_func is not bound to anything "
   ]
  },
  {
   "cell_type": "code",
   "execution_count": 54,
   "id": "24e1a5f0-410d-4047-967d-d439bd40ad13",
   "metadata": {},
   "outputs": [],
   "source": [
    "class MyClass:\n",
    "    def f(self):\n",
    "        pass"
   ]
  },
  {
   "cell_type": "code",
   "execution_count": 55,
   "id": "c3b1f248-3cbc-46f8-9810-1cb0ba8dc1d3",
   "metadata": {},
   "outputs": [
    {
     "data": {
      "text/plain": [
       "True"
      ]
     },
     "execution_count": 55,
     "metadata": {},
     "output_type": "execute_result"
    }
   ],
   "source": [
    "isfunction(MyClass.f) "
   ]
  },
  {
   "cell_type": "code",
   "execution_count": 56,
   "id": "9eca47d0-5ffc-415d-a986-dc639f820d7c",
   "metadata": {},
   "outputs": [],
   "source": [
    "my_obj = MyClass()"
   ]
  },
  {
   "cell_type": "code",
   "execution_count": 57,
   "id": "2acf977d-60a6-4fd0-94ed-30e5a1d34de5",
   "metadata": {},
   "outputs": [
    {
     "data": {
      "text/plain": [
       "False"
      ]
     },
     "execution_count": 57,
     "metadata": {},
     "output_type": "execute_result"
    }
   ],
   "source": [
    "isfunction(my_obj.f)"
   ]
  },
  {
   "cell_type": "code",
   "execution_count": 58,
   "id": "67f10668-360b-4f02-9f43-ae676d3274ce",
   "metadata": {},
   "outputs": [
    {
     "data": {
      "text/plain": [
       "True"
      ]
     },
     "execution_count": 58,
     "metadata": {},
     "output_type": "execute_result"
    }
   ],
   "source": [
    "ismethod(my_obj.f)"
   ]
  },
  {
   "cell_type": "code",
   "execution_count": 59,
   "id": "bf713777-dda5-4cea-9a77-6dd6e2c672be",
   "metadata": {},
   "outputs": [
    {
     "data": {
      "text/plain": [
       "<Signature (a: 'mandatory positional', b: 'optional positional' = 1, c=2, *args: 'add extra positional here', kw1, kw2=100, kw3=200, **kwargs: 'provide extra kw only here') -> 'does nothing'>"
      ]
     },
     "execution_count": 59,
     "metadata": {},
     "output_type": "execute_result"
    }
   ],
   "source": [
    "inspect.signature(my_func)"
   ]
  },
  {
   "cell_type": "code",
   "execution_count": 60,
   "id": "57d71fcb-87f4-4afd-939b-8b8d1ec27348",
   "metadata": {},
   "outputs": [
    {
     "data": {
      "text/plain": [
       "['__class__',\n",
       " '__delattr__',\n",
       " '__dir__',\n",
       " '__doc__',\n",
       " '__eq__',\n",
       " '__format__',\n",
       " '__ge__',\n",
       " '__getattribute__',\n",
       " '__getstate__',\n",
       " '__gt__',\n",
       " '__hash__',\n",
       " '__init__',\n",
       " '__init_subclass__',\n",
       " '__le__',\n",
       " '__lt__',\n",
       " '__module__',\n",
       " '__ne__',\n",
       " '__new__',\n",
       " '__reduce__',\n",
       " '__reduce_ex__',\n",
       " '__repr__',\n",
       " '__setattr__',\n",
       " '__setstate__',\n",
       " '__sizeof__',\n",
       " '__slots__',\n",
       " '__str__',\n",
       " '__subclasshook__',\n",
       " '_bind',\n",
       " '_bound_arguments_cls',\n",
       " '_hash_basis',\n",
       " '_parameter_cls',\n",
       " '_parameters',\n",
       " '_return_annotation',\n",
       " 'bind',\n",
       " 'bind_partial',\n",
       " 'empty',\n",
       " 'from_callable',\n",
       " 'parameters',\n",
       " 'replace',\n",
       " 'return_annotation']"
      ]
     },
     "execution_count": 60,
     "metadata": {},
     "output_type": "execute_result"
    }
   ],
   "source": [
    "dir(inspect.signature(my_func))"
   ]
  },
  {
   "cell_type": "code",
   "execution_count": null,
   "id": "17f2f540-67d7-46d8-8188-dc5f12007938",
   "metadata": {},
   "outputs": [],
   "source": []
  }
 ],
 "metadata": {
  "kernelspec": {
   "display_name": "Python 3 (ipykernel)",
   "language": "python",
   "name": "python3"
  },
  "language_info": {
   "codemirror_mode": {
    "name": "ipython",
    "version": 3
   },
   "file_extension": ".py",
   "mimetype": "text/x-python",
   "name": "python",
   "nbconvert_exporter": "python",
   "pygments_lexer": "ipython3",
   "version": "3.12.1"
  }
 },
 "nbformat": 4,
 "nbformat_minor": 5
}
