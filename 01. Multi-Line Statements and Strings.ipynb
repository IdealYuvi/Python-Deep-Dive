{
 "cells": [
  {
   "cell_type": "code",
   "execution_count": 1,
   "id": "1a7e0c91-a12a-4ae0-8fb9-1b0649c7f61b",
   "metadata": {},
   "outputs": [],
   "source": [
    "a = [1, 2, 3]"
   ]
  },
  {
   "cell_type": "code",
   "execution_count": 2,
   "id": "1f073e61-3289-496e-9802-d9ebf6b3b602",
   "metadata": {},
   "outputs": [],
   "source": [
    "a = [1, 2, # this is allowed\n",
    "    3, 4, 5]"
   ]
  },
  {
   "cell_type": "code",
   "execution_count": 3,
   "id": "6d5b498d-7206-4eba-819a-635f575d18f9",
   "metadata": {},
   "outputs": [
    {
     "data": {
      "text/plain": [
       "[1, 2, 3, 4, 5]"
      ]
     },
     "execution_count": 3,
     "metadata": {},
     "output_type": "execute_result"
    }
   ],
   "source": [
    "a"
   ]
  },
  {
   "cell_type": "code",
   "execution_count": 4,
   "id": "dd56dc87-ef0e-473a-884c-f9d9187f546e",
   "metadata": {},
   "outputs": [],
   "source": [
    "a = [1, # comment 1\n",
    "    2, # comment 2\n",
    "    3]"
   ]
  },
  {
   "cell_type": "code",
   "execution_count": 5,
   "id": "8f43fd15-cd2a-474c-9021-72f81677f018",
   "metadata": {},
   "outputs": [
    {
     "data": {
      "text/plain": [
       "[1, 2, 3]"
      ]
     },
     "execution_count": 5,
     "metadata": {},
     "output_type": "execute_result"
    }
   ],
   "source": [
    "a"
   ]
  },
  {
   "cell_type": "code",
   "execution_count": 6,
   "id": "6f3bd080-b9bf-4815-90f2-2e0d0190bef5",
   "metadata": {},
   "outputs": [],
   "source": [
    "a = (1 # comment 1\n",
    "    ,2 # comment 2\n",
    "    ,3)"
   ]
  },
  {
   "cell_type": "code",
   "execution_count": 7,
   "id": "4ae5475b-0baf-4356-8b43-a1859d4dafcc",
   "metadata": {},
   "outputs": [
    {
     "data": {
      "text/plain": [
       "(1, 2, 3)"
      ]
     },
     "execution_count": 7,
     "metadata": {},
     "output_type": "execute_result"
    }
   ],
   "source": [
    "a"
   ]
  },
  {
   "cell_type": "code",
   "execution_count": 8,
   "id": "b0c7afd7-85e6-4782-a554-aa124907f777",
   "metadata": {},
   "outputs": [],
   "source": [
    "a = {'key1': 1 # comment 1\n",
    "    ,'key2': 2 # comment 2\n",
    "    }"
   ]
  },
  {
   "cell_type": "code",
   "execution_count": 9,
   "id": "71f3b17c-ed89-4737-a894-1bc2c10f81ba",
   "metadata": {},
   "outputs": [
    {
     "data": {
      "text/plain": [
       "{'key1': 1, 'key2': 2}"
      ]
     },
     "execution_count": 9,
     "metadata": {},
     "output_type": "execute_result"
    }
   ],
   "source": [
    "a"
   ]
  },
  {
   "cell_type": "markdown",
   "id": "ccc04b0b-7dfc-4c22-96db-afb7abbc82b0",
   "metadata": {},
   "source": [
    "Do not add the 'comma' or 'closing bracket' after a comment in a multiline list or tuples or dictionary with comments, <br>\n",
    "because it'll become a part of the comment and throw error."
   ]
  },
  {
   "cell_type": "code",
   "execution_count": 10,
   "id": "bfd07f50-eb44-4c70-ba32-0da20ed5fa2f",
   "metadata": {},
   "outputs": [],
   "source": [
    "def my_func(a, # comment can be added here in function definition too\n",
    "            b, # comment 2\n",
    "            c):\n",
    "    print(a, b, c)"
   ]
  },
  {
   "cell_type": "code",
   "execution_count": 11,
   "id": "098a90b6-8772-4891-9042-0bc0af9e25a8",
   "metadata": {},
   "outputs": [
    {
     "name": "stdout",
     "output_type": "stream",
     "text": [
      "10 20 30\n"
     ]
    }
   ],
   "source": [
    "my_func(10, 20, 30)"
   ]
  },
  {
   "cell_type": "code",
   "execution_count": 12,
   "id": "c1224e38-9c2f-4173-8605-ef098f0e3787",
   "metadata": {},
   "outputs": [
    {
     "name": "stdout",
     "output_type": "stream",
     "text": [
      "10 20 30\n"
     ]
    }
   ],
   "source": [
    "my_func(10, # comment can be added even when u call a function\n",
    "        20, # comment 2\n",
    "        30 # comment 3\n",
    "       )"
   ]
  },
  {
   "cell_type": "markdown",
   "id": "3a4b52d5-c75a-4f97-b2a7-b6c3f9781033",
   "metadata": {},
   "source": [
    "Comments cannot be added after line continuation character '\\\\'"
   ]
  },
  {
   "cell_type": "code",
   "execution_count": 13,
   "id": "09f68cbd-04ec-4160-b2f5-fc1d906d4461",
   "metadata": {},
   "outputs": [],
   "source": [
    "a, b, c = 10, 20, 30"
   ]
  },
  {
   "cell_type": "code",
   "execution_count": 14,
   "id": "6f65a9db-e1ba-4297-83ff-34f93ac2b9a7",
   "metadata": {},
   "outputs": [
    {
     "name": "stdout",
     "output_type": "stream",
     "text": [
      "yes\n"
     ]
    }
   ],
   "source": [
    "if a > 5 \\\n",
    "    and b > 10 \\\n",
    "        and c > 20:\n",
    "    print('yes')"
   ]
  },
  {
   "cell_type": "markdown",
   "id": "98cc0c3c-ca86-4583-a336-117cf0250d87",
   "metadata": {},
   "source": [
    "Notice the behaviour of multiline string below"
   ]
  },
  {
   "cell_type": "code",
   "execution_count": 15,
   "id": "c683ceea-c7a0-434d-9e22-476abd5186e7",
   "metadata": {},
   "outputs": [],
   "source": [
    "a = '''this is a string'''"
   ]
  },
  {
   "cell_type": "code",
   "execution_count": 16,
   "id": "161e4f17-752d-4c2f-89ff-c6c36c69c4b0",
   "metadata": {},
   "outputs": [
    {
     "data": {
      "text/plain": [
       "'this is a string'"
      ]
     },
     "execution_count": 16,
     "metadata": {},
     "output_type": "execute_result"
    }
   ],
   "source": [
    "a"
   ]
  },
  {
   "cell_type": "code",
   "execution_count": 17,
   "id": "efaacc5b-f0b2-4368-9a55-6fcba2d51416",
   "metadata": {},
   "outputs": [],
   "source": [
    "a = '''this is\n",
    "a string'''"
   ]
  },
  {
   "cell_type": "code",
   "execution_count": 18,
   "id": "16d60012-1556-41dd-85a6-848242503799",
   "metadata": {},
   "outputs": [
    {
     "data": {
      "text/plain": [
       "'this is\\na string'"
      ]
     },
     "execution_count": 18,
     "metadata": {},
     "output_type": "execute_result"
    }
   ],
   "source": [
    "a"
   ]
  },
  {
   "cell_type": "code",
   "execution_count": 19,
   "id": "900f7b03-341c-4286-8a06-bdf6f0630750",
   "metadata": {},
   "outputs": [
    {
     "name": "stdout",
     "output_type": "stream",
     "text": [
      "this is\n",
      "a string\n"
     ]
    }
   ],
   "source": [
    "print(a)"
   ]
  },
  {
   "cell_type": "code",
   "execution_count": 20,
   "id": "fbb2017d-bf7b-436e-9792-360679530ba1",
   "metadata": {},
   "outputs": [],
   "source": [
    "a = '''this is\n",
    "       a string'''"
   ]
  },
  {
   "cell_type": "code",
   "execution_count": 21,
   "id": "94cf7ed4-045a-4683-ba86-9b39ecc117c2",
   "metadata": {},
   "outputs": [
    {
     "data": {
      "text/plain": [
       "'this is\\n       a string'"
      ]
     },
     "execution_count": 21,
     "metadata": {},
     "output_type": "execute_result"
    }
   ],
   "source": [
    "a"
   ]
  },
  {
   "cell_type": "code",
   "execution_count": 22,
   "id": "e384dceb-6a16-4c51-8e76-7318afab7f74",
   "metadata": {},
   "outputs": [
    {
     "name": "stdout",
     "output_type": "stream",
     "text": [
      "this is\n",
      "       a string\n"
     ]
    }
   ],
   "source": [
    "print(a)"
   ]
  },
  {
   "cell_type": "code",
   "execution_count": 23,
   "id": "c77be7a0-26b8-4013-9299-d2fd7e9c77a9",
   "metadata": {},
   "outputs": [],
   "source": [
    "def my_func():\n",
    "    a = '''a multi-line string\n",
    "    that is indented in the second line'''\n",
    "    return a"
   ]
  },
  {
   "cell_type": "code",
   "execution_count": 24,
   "id": "d7926295-c28c-499f-aa3f-6908acec109e",
   "metadata": {},
   "outputs": [
    {
     "name": "stdout",
     "output_type": "stream",
     "text": [
      "a multi-line string\n",
      "    that is indented in the second line\n"
     ]
    }
   ],
   "source": [
    "print(my_func())"
   ]
  },
  {
   "cell_type": "code",
   "execution_count": null,
   "id": "e6cab274-1501-4939-8e03-dbfc1ba1732c",
   "metadata": {},
   "outputs": [],
   "source": []
  }
 ],
 "metadata": {
  "kernelspec": {
   "display_name": "Python 3 (ipykernel)",
   "language": "python",
   "name": "python3"
  },
  "language_info": {
   "codemirror_mode": {
    "name": "ipython",
    "version": 3
   },
   "file_extension": ".py",
   "mimetype": "text/x-python",
   "name": "python",
   "nbconvert_exporter": "python",
   "pygments_lexer": "ipython3",
   "version": "3.12.1"
  }
 },
 "nbformat": 4,
 "nbformat_minor": 5
}
