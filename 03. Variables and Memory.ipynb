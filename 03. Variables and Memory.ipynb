{
 "cells": [
  {
   "cell_type": "markdown",
   "id": "0b6eb8c8-f292-4b30-b996-7e36e34f811c",
   "metadata": {},
   "source": [
    "In python, everything is an object. Variables hold references to that object in memory. In other words, variables are memory references.<br>\n",
    "We can find out the memory address referenced by a variable using the id() function. This will return a base-10 number.<br>\n",
    "We can convert this base-10 number to hexadecimal using hex() function."
   ]
  },
  {
   "cell_type": "code",
   "execution_count": 1,
   "id": "764489d8-97ff-49e2-ac6f-b50cb5c48e0c",
   "metadata": {},
   "outputs": [],
   "source": [
    "my_var = 10"
   ]
  },
  {
   "cell_type": "code",
   "execution_count": 2,
   "id": "7c2a8182-dbb9-4ab1-b093-ecb93afbf50f",
   "metadata": {},
   "outputs": [
    {
     "name": "stdout",
     "output_type": "stream",
     "text": [
      "10\n"
     ]
    }
   ],
   "source": [
    "print(my_var)"
   ]
  },
  {
   "cell_type": "code",
   "execution_count": 3,
   "id": "06c0d8e0-5e4a-4cd8-89d6-9fa6c6d0ce0c",
   "metadata": {},
   "outputs": [
    {
     "name": "stdout",
     "output_type": "stream",
     "text": [
      "140708697357016\n"
     ]
    }
   ],
   "source": [
    "print(id(my_var))"
   ]
  },
  {
   "cell_type": "code",
   "execution_count": 4,
   "id": "d0771af4-ccc4-468f-80f6-474152cf9d78",
   "metadata": {},
   "outputs": [
    {
     "name": "stdout",
     "output_type": "stream",
     "text": [
      "0x7ff94bec3ad8\n"
     ]
    }
   ],
   "source": [
    "print(hex(id(my_var)))"
   ]
  },
  {
   "cell_type": "markdown",
   "id": "8f719cde-cf4e-4497-b660-bf2381b74d00",
   "metadata": {},
   "source": [
    "## **Reference Counting**"
   ]
  },
  {
   "cell_type": "code",
   "execution_count": 5,
   "id": "9f50596a-9b2e-4b06-9c8f-381800c98411",
   "metadata": {},
   "outputs": [],
   "source": [
    "other_var = my_var # here we're assigning other_var to the reference of my_var"
   ]
  },
  {
   "cell_type": "code",
   "execution_count": 6,
   "id": "521bc240-08e6-4f02-a119-c5f0bfaf0fb6",
   "metadata": {},
   "outputs": [
    {
     "name": "stdout",
     "output_type": "stream",
     "text": [
      "0x7ff94bec3ad8\n",
      "0x7ff94bec3ad8\n"
     ]
    },
    {
     "data": {
      "text/plain": [
       "True"
      ]
     },
     "execution_count": 6,
     "metadata": {},
     "output_type": "execute_result"
    }
   ],
   "source": [
    "print(hex(id(other_var))) == print(hex(id(my_var)))"
   ]
  },
  {
   "cell_type": "code",
   "execution_count": 7,
   "id": "fc3e1417-7af4-48f9-bded-a9faac63c2c3",
   "metadata": {},
   "outputs": [],
   "source": [
    "import sys"
   ]
  },
  {
   "cell_type": "code",
   "execution_count": 8,
   "id": "52a5d87f-dbdd-445b-94ea-f64e590166b2",
   "metadata": {},
   "outputs": [],
   "source": [
    "a = [1, 2, 3]"
   ]
  },
  {
   "cell_type": "code",
   "execution_count": 9,
   "id": "d64393b4-fc6f-46a7-9dbf-5973cd120cc2",
   "metadata": {},
   "outputs": [
    {
     "data": {
      "text/plain": [
       "2681724513984"
      ]
     },
     "execution_count": 9,
     "metadata": {},
     "output_type": "execute_result"
    }
   ],
   "source": [
    "id(a)"
   ]
  },
  {
   "cell_type": "code",
   "execution_count": 10,
   "id": "a28c4e49-2948-4839-bb17-e00a661fe43a",
   "metadata": {},
   "outputs": [
    {
     "data": {
      "text/plain": [
       "2"
      ]
     },
     "execution_count": 10,
     "metadata": {},
     "output_type": "execute_result"
    }
   ],
   "source": [
    "sys.getrefcount(a) # the ans is 2 because this line also adds one to the reference count as we're passing {a}"
   ]
  },
  {
   "cell_type": "code",
   "execution_count": 11,
   "id": "61f0080b-aed3-42b4-965f-c7b386cefd60",
   "metadata": {},
   "outputs": [],
   "source": [
    "# we can minus 1 from getrefcount to get actual reference count or use ctypes library to negate this problem"
   ]
  },
  {
   "cell_type": "code",
   "execution_count": 12,
   "id": "a42785fe-2db7-4832-a979-e848ba1cb9c1",
   "metadata": {},
   "outputs": [],
   "source": [
    "import ctypes"
   ]
  },
  {
   "cell_type": "code",
   "execution_count": 13,
   "id": "2cc00624-e9f7-4682-b345-f8589cb88ddc",
   "metadata": {},
   "outputs": [],
   "source": [
    "def ref_count(address: int):\n",
    "    return ctypes.c_long.from_address(address).value"
   ]
  },
  {
   "cell_type": "code",
   "execution_count": 14,
   "id": "ff29f3b8-d2a9-4616-a249-e807f482ad81",
   "metadata": {},
   "outputs": [
    {
     "data": {
      "text/plain": [
       "1"
      ]
     },
     "execution_count": 14,
     "metadata": {},
     "output_type": "execute_result"
    }
   ],
   "source": [
    "ref_count(id(a))"
   ]
  },
  {
   "cell_type": "code",
   "execution_count": 15,
   "id": "0bd021db-aebc-4985-b686-198cfe58f430",
   "metadata": {},
   "outputs": [],
   "source": [
    "b = a"
   ]
  },
  {
   "cell_type": "code",
   "execution_count": 16,
   "id": "4848b201-5434-4361-a608-af589697887a",
   "metadata": {},
   "outputs": [
    {
     "data": {
      "text/plain": [
       "2"
      ]
     },
     "execution_count": 16,
     "metadata": {},
     "output_type": "execute_result"
    }
   ],
   "source": [
    "ref_count(id(a))"
   ]
  },
  {
   "cell_type": "code",
   "execution_count": 17,
   "id": "8ee9653d-be91-4597-b407-d3db75363a35",
   "metadata": {},
   "outputs": [
    {
     "data": {
      "text/plain": [
       "3"
      ]
     },
     "execution_count": 17,
     "metadata": {},
     "output_type": "execute_result"
    }
   ],
   "source": [
    "c = a\n",
    "\n",
    "ref_count(id(a))"
   ]
  },
  {
   "cell_type": "code",
   "execution_count": 18,
   "id": "404c03f7-19ba-4148-9dbc-26a41a80c5bd",
   "metadata": {},
   "outputs": [
    {
     "data": {
      "text/plain": [
       "2"
      ]
     },
     "execution_count": 18,
     "metadata": {},
     "output_type": "execute_result"
    }
   ],
   "source": [
    "c = 10\n",
    "\n",
    "ref_count(id(a))"
   ]
  },
  {
   "cell_type": "code",
   "execution_count": 19,
   "id": "1f92d5b9-1313-48e2-84a7-ac3c62d7a6f5",
   "metadata": {},
   "outputs": [
    {
     "data": {
      "text/plain": [
       "1"
      ]
     },
     "execution_count": 19,
     "metadata": {},
     "output_type": "execute_result"
    }
   ],
   "source": [
    "b = None\n",
    "\n",
    "ref_count(id(a))"
   ]
  }
 ],
 "metadata": {
  "kernelspec": {
   "display_name": "Python 3 (ipykernel)",
   "language": "python",
   "name": "python3"
  },
  "language_info": {
   "codemirror_mode": {
    "name": "ipython",
    "version": 3
   },
   "file_extension": ".py",
   "mimetype": "text/x-python",
   "name": "python",
   "nbconvert_exporter": "python",
   "pygments_lexer": "ipython3",
   "version": "3.12.1"
  }
 },
 "nbformat": 4,
 "nbformat_minor": 5
}
