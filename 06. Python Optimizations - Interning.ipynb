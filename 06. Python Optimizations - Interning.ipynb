{
 "cells": [
  {
   "cell_type": "markdown",
   "id": "3939b84f-87d4-4a20-bceb-4c17b65f9471",
   "metadata": {},
   "source": [
    "## **Shared References**"
   ]
  },
  {
   "cell_type": "code",
   "execution_count": 1,
   "id": "25a70873-51cd-4230-a478-1d8420d98ef4",
   "metadata": {},
   "outputs": [],
   "source": [
    "a = 10\n",
    "b = 10"
   ]
  },
  {
   "cell_type": "code",
   "execution_count": 2,
   "id": "353d2756-3d73-45db-b4e1-12ba24838794",
   "metadata": {},
   "outputs": [
    {
     "data": {
      "text/plain": [
       "140718884141784"
      ]
     },
     "execution_count": 2,
     "metadata": {},
     "output_type": "execute_result"
    }
   ],
   "source": [
    "id(a)"
   ]
  },
  {
   "cell_type": "code",
   "execution_count": 3,
   "id": "4e7c25d6-9f9a-4f7d-9a0b-3027b5eb7d02",
   "metadata": {},
   "outputs": [
    {
     "data": {
      "text/plain": [
       "140718884141784"
      ]
     },
     "execution_count": 3,
     "metadata": {},
     "output_type": "execute_result"
    }
   ],
   "source": [
    "id(b)"
   ]
  },
  {
   "cell_type": "code",
   "execution_count": 4,
   "id": "bb9add43-01bb-419e-b2b6-55e31574c7a9",
   "metadata": {},
   "outputs": [
    {
     "data": {
      "text/plain": [
       "True"
      ]
     },
     "execution_count": 4,
     "metadata": {},
     "output_type": "execute_result"
    }
   ],
   "source": [
    "id(a) == id(b)"
   ]
  },
  {
   "cell_type": "markdown",
   "id": "a5276096-ace6-4d55-a6c2-d87b893f2f45",
   "metadata": {},
   "source": [
    "Here we have two separate variables sharing same memory address, this is because of Interning. <br>\n",
    "Interning: reusing objects on-demand <br>\n",
    "At startup, Python(CPython) pre-loads(caches) a global list of integers in the range(-5, 256). <br>\n",
    "Any time an integer is referenced in that range, Python will use the cached version of that object. <br>"
   ]
  },
  {
   "cell_type": "code",
   "execution_count": 5,
   "id": "7f4b0c02-07da-49f2-a9ce-4ab5c2981009",
   "metadata": {},
   "outputs": [],
   "source": [
    "a = 10"
   ]
  },
  {
   "cell_type": "code",
   "execution_count": 6,
   "id": "0d1522df-2985-4f75-a809-cd417f7582c7",
   "metadata": {},
   "outputs": [],
   "source": [
    "b = int(10)"
   ]
  },
  {
   "cell_type": "code",
   "execution_count": 7,
   "id": "51814f7c-24b0-4aef-8e75-512de5909c75",
   "metadata": {},
   "outputs": [],
   "source": [
    "c = int('10')"
   ]
  },
  {
   "cell_type": "code",
   "execution_count": 8,
   "id": "8c7f7903-6295-40fd-87ea-dff4009557f7",
   "metadata": {},
   "outputs": [],
   "source": [
    "d = int('1010', 2)"
   ]
  },
  {
   "cell_type": "code",
   "execution_count": 9,
   "id": "7c2ea3c1-067a-46ab-9945-98df5185e02f",
   "metadata": {},
   "outputs": [
    {
     "name": "stdout",
     "output_type": "stream",
     "text": [
      "10 10 10 10\n"
     ]
    }
   ],
   "source": [
    "print(a, b, c, d)"
   ]
  },
  {
   "cell_type": "code",
   "execution_count": 10,
   "id": "96f35917-97b8-4f84-9cd2-880e7ebea8dd",
   "metadata": {},
   "outputs": [
    {
     "name": "stdout",
     "output_type": "stream",
     "text": [
      "140718884141784 140718884141784 140718884141784 140718884141784\n"
     ]
    }
   ],
   "source": [
    "print(id(a), id(b), id(c), id(d))"
   ]
  },
  {
   "cell_type": "markdown",
   "id": "a232fdb1-f1bc-4437-9496-4f4cbb73794e",
   "metadata": {},
   "source": [
    "## **String Interning**"
   ]
  },
  {
   "cell_type": "markdown",
   "id": "16eb2f4b-40f8-4e0e-847a-d701bd75a070",
   "metadata": {},
   "source": [
    "Strings are not always interned by Python. <br>\n",
    "Strings that look like identifiers may get interned. <br>\n",
    "We can force a string to get interned using the intern function in sys module. <br>\n",
    "Comparing two strings that are interned is much faster as we are only comparing memory addresses, <br>\n",
    "instead of comparing every character one by one in both strings."
   ]
  },
  {
   "cell_type": "code",
   "execution_count": 11,
   "id": "8d1254cb-efb9-443b-93ca-28ceccf6042a",
   "metadata": {},
   "outputs": [],
   "source": [
    "a = 'hello'\n",
    "b = 'hello'"
   ]
  },
  {
   "cell_type": "code",
   "execution_count": 12,
   "id": "d5487441-2a66-4b7e-9b7c-868dc8052b49",
   "metadata": {},
   "outputs": [
    {
     "data": {
      "text/plain": [
       "True"
      ]
     },
     "execution_count": 12,
     "metadata": {},
     "output_type": "execute_result"
    }
   ],
   "source": [
    "id(a) == id(b)"
   ]
  },
  {
   "cell_type": "code",
   "execution_count": 13,
   "id": "5c1145c4-c0c1-428c-b9b5-c120b7f79eee",
   "metadata": {},
   "outputs": [],
   "source": [
    "a = 'hello world'\n",
    "b = 'hello world'"
   ]
  },
  {
   "cell_type": "code",
   "execution_count": 14,
   "id": "9e9a9d24-3d1a-4cb7-861d-5977733c281a",
   "metadata": {},
   "outputs": [
    {
     "data": {
      "text/plain": [
       "False"
      ]
     },
     "execution_count": 14,
     "metadata": {},
     "output_type": "execute_result"
    }
   ],
   "source": [
    "id(a) == id(b)"
   ]
  },
  {
   "cell_type": "code",
   "execution_count": 15,
   "id": "fb07ed97-3399-492a-9f0c-194b012176e0",
   "metadata": {},
   "outputs": [],
   "source": [
    "a = '_this_is_a_long_string_that_could_be_used_as_an_identifier'\n",
    "b = '_this_is_a_long_string_that_could_be_used_as_an_identifier'"
   ]
  },
  {
   "cell_type": "code",
   "execution_count": 16,
   "id": "68e89ee3-af4c-4db0-9c1f-e627ac269a3a",
   "metadata": {},
   "outputs": [
    {
     "data": {
      "text/plain": [
       "True"
      ]
     },
     "execution_count": 16,
     "metadata": {},
     "output_type": "execute_result"
    }
   ],
   "source": [
    "a is b"
   ]
  },
  {
   "cell_type": "code",
   "execution_count": 17,
   "id": "f62127bf-b7b3-496d-9778-07db31f0c1d9",
   "metadata": {},
   "outputs": [
    {
     "data": {
      "text/plain": [
       "True"
      ]
     },
     "execution_count": 17,
     "metadata": {},
     "output_type": "execute_result"
    }
   ],
   "source": [
    "id(a) == id(b)"
   ]
  },
  {
   "cell_type": "code",
   "execution_count": 18,
   "id": "f1204315-4878-4ed7-b0f7-dd7eff107c4c",
   "metadata": {},
   "outputs": [],
   "source": [
    "import sys"
   ]
  },
  {
   "cell_type": "code",
   "execution_count": 19,
   "id": "e916a141-250b-4fda-918d-4262cc1dcb85",
   "metadata": {},
   "outputs": [],
   "source": [
    "a = sys.intern('hello world')\n",
    "b = sys.intern('hello world')\n",
    "c = 'hello world'"
   ]
  },
  {
   "cell_type": "code",
   "execution_count": 20,
   "id": "7d07f140-45a2-477c-a62b-b63baee35c69",
   "metadata": {},
   "outputs": [
    {
     "name": "stdout",
     "output_type": "stream",
     "text": [
      "1490321500912 1490321500912 1490321503088\n"
     ]
    }
   ],
   "source": [
    "print(id(a), id(b), id(c))"
   ]
  },
  {
   "cell_type": "code",
   "execution_count": 21,
   "id": "cf04397f-aeb8-4140-bc16-bc26b1b83bd2",
   "metadata": {},
   "outputs": [
    {
     "data": {
      "text/plain": [
       "True"
      ]
     },
     "execution_count": 21,
     "metadata": {},
     "output_type": "execute_result"
    }
   ],
   "source": [
    "a is b"
   ]
  },
  {
   "cell_type": "code",
   "execution_count": 22,
   "id": "56156a62-f388-43ce-a6f9-ed9af6d8a42b",
   "metadata": {},
   "outputs": [
    {
     "data": {
      "text/plain": [
       "False"
      ]
     },
     "execution_count": 22,
     "metadata": {},
     "output_type": "execute_result"
    }
   ],
   "source": [
    "a is c"
   ]
  },
  {
   "cell_type": "code",
   "execution_count": 23,
   "id": "2493fcaa-f1d6-4b9e-9904-7796ac1db0ea",
   "metadata": {},
   "outputs": [
    {
     "data": {
      "text/plain": [
       "True"
      ]
     },
     "execution_count": 23,
     "metadata": {},
     "output_type": "execute_result"
    }
   ],
   "source": [
    "a == c"
   ]
  },
  {
   "cell_type": "code",
   "execution_count": 24,
   "id": "24b91861-db44-4aa3-8f9a-65b32f333936",
   "metadata": {},
   "outputs": [],
   "source": [
    "def compare_using_equals(n):\n",
    "    a = 'this is a long string we are using for comparision' * 200\n",
    "    b = 'this is a long string we are using for comparision' * 200\n",
    "\n",
    "    for i in range(n):\n",
    "        if a == b:\n",
    "            pass"
   ]
  },
  {
   "cell_type": "code",
   "execution_count": 25,
   "id": "a329631b-9941-452d-880c-e5cfc2d43e78",
   "metadata": {},
   "outputs": [],
   "source": [
    "def compare_using_interning(n):\n",
    "    a = sys.intern('this is a long string we are using for comparision' * 200)\n",
    "    b = sys.intern('this is a long string we are using for comparision' * 200)\n",
    "\n",
    "    for i in range(n):\n",
    "        if a is b:\n",
    "            pass"
   ]
  },
  {
   "cell_type": "code",
   "execution_count": 26,
   "id": "7517fefc-09a4-4a7c-b206-ae495ba20288",
   "metadata": {},
   "outputs": [],
   "source": [
    "import time"
   ]
  },
  {
   "cell_type": "code",
   "execution_count": 27,
   "id": "246d481c-d4b6-4b52-a371-8c29e4d1e0a3",
   "metadata": {},
   "outputs": [
    {
     "name": "stdout",
     "output_type": "stream",
     "text": [
      "equality operator 56.682262900008936\n"
     ]
    }
   ],
   "source": [
    "start = time.perf_counter()\n",
    "compare_using_equals(100000000)\n",
    "end = time.perf_counter()\n",
    "print('equality operator', end - start)"
   ]
  },
  {
   "cell_type": "code",
   "execution_count": 28,
   "id": "c1cfbd77-25b1-411c-9bcc-4c86497341bd",
   "metadata": {},
   "outputs": [
    {
     "name": "stdout",
     "output_type": "stream",
     "text": [
      "equality operator 5.269641999999294\n"
     ]
    }
   ],
   "source": [
    "start = time.perf_counter()\n",
    "compare_using_interning(100000000)\n",
    "end = time.perf_counter()\n",
    "print('equality operator', end - start)"
   ]
  },
  {
   "cell_type": "markdown",
   "id": "9cffe4c9-09d3-457e-8376-22d7ea124869",
   "metadata": {},
   "source": [
    "We can see the drastic difference in time between comparing two string that are interned and not interned. <br>\n",
    "Interning should only be used when its essential."
   ]
  },
  {
   "cell_type": "code",
   "execution_count": null,
   "id": "dfb1c7c8-7551-4fc5-88d9-a098de5b7de2",
   "metadata": {},
   "outputs": [],
   "source": []
  }
 ],
 "metadata": {
  "kernelspec": {
   "display_name": "Python 3 (ipykernel)",
   "language": "python",
   "name": "python3"
  },
  "language_info": {
   "codemirror_mode": {
    "name": "ipython",
    "version": 3
   },
   "file_extension": ".py",
   "mimetype": "text/x-python",
   "name": "python",
   "nbconvert_exporter": "python",
   "pygments_lexer": "ipython3",
   "version": "3.12.1"
  }
 },
 "nbformat": 4,
 "nbformat_minor": 5
}
