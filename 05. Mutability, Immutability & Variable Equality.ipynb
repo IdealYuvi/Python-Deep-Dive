{
 "cells": [
  {
   "cell_type": "markdown",
   "id": "87119f53-e490-414e-b7e0-32e4287cccd8",
   "metadata": {},
   "source": [
    "## **Mutability and Immutability**"
   ]
  },
  {
   "cell_type": "markdown",
   "id": "d56765ec-9782-499f-96ac-f6aa60b890be",
   "metadata": {},
   "source": [
    "Mutable - An object whose internal state can be changed <br>\n",
    "Immutable - An object whose internal state cannot be changed"
   ]
  },
  {
   "cell_type": "markdown",
   "id": "1ea6596e-f6aa-48a5-a565-0ec3769e4e01",
   "metadata": {},
   "source": [
    "Immutable:\n",
    "> 1. Numbers(int, float, Boolean etc)\n",
    "> 2. Strings\n",
    "> 3. Tuples\n",
    "> 4. Frozen Sets\n",
    "> 5. User-Defined Classes\n",
    "\n",
    "Mutable:\n",
    "> 1. Lists\n",
    "> 2. Sets\n",
    "> 3. Dictionaries"
   ]
  },
  {
   "cell_type": "code",
   "execution_count": 1,
   "id": "95ed61e3-b6c3-490d-939e-84410aacbf1d",
   "metadata": {},
   "outputs": [
    {
     "name": "stdout",
     "output_type": "stream",
     "text": [
      "module scope initial s: 2265491204128\n",
      "process scope initial s: 2265491204128\n",
      "hello world\n",
      "process scope final s: 2265511986864\n",
      "module scope final s: 2265491204128\n",
      "hello\n"
     ]
    }
   ],
   "source": [
    "def process(s):\n",
    "    print(f'process scope initial s: {id(s)}')\n",
    "    s = s + ' world' # creates new {s} referenced to different id in memory\n",
    "    print(s)\n",
    "    print(f'process scope final s: {id(s)}')\n",
    "\n",
    "s = 'hello'\n",
    "print(f'module scope initial s: {id(s)}')\n",
    "process(s) \n",
    "print(f'module scope final s: {id(s)}') \n",
    "print(s) # s in the module scope doesn't change bcoz string is immutable"
   ]
  },
  {
   "cell_type": "code",
   "execution_count": 2,
   "id": "cc74c08b-2f8a-4055-b812-d066dc577419",
   "metadata": {},
   "outputs": [
    {
     "name": "stdout",
     "output_type": "stream",
     "text": [
      "module scope initial s: 2265511833024\n",
      "process scope initial s: 2265511833024\n",
      "process scope final s: 2265511833024\n",
      "module scope final s: 2265511833024\n",
      "[1, 2, 3, 4]\n"
     ]
    }
   ],
   "source": [
    "def process(lst):\n",
    "    print(f'process scope initial s: {id(lst)}')\n",
    "    lst.append(4)\n",
    "    print(f'process scope final s: {id(lst)}')\n",
    "\n",
    "lst = [1, 2, 3]\n",
    "print(f'module scope initial s: {id(lst)}')\n",
    "process(lst)\n",
    "print(f'module scope final s: {id(lst)}')\n",
    "print(lst) # lst in the module scope changed bcoz list is mutable"
   ]
  },
  {
   "cell_type": "code",
   "execution_count": 3,
   "id": "db098243-98bf-4b3d-b715-5efaa55c3ca4",
   "metadata": {},
   "outputs": [
    {
     "name": "stdout",
     "output_type": "stream",
     "text": [
      "([1, 2], [3, 4])\n",
      "([1, 2, 5], [3, 4, 6])\n"
     ]
    }
   ],
   "source": [
    "# Example for immutable object with mutable elements\n",
    "a = [1, 2]\n",
    "b = [3, 4]\n",
    "t = (a, b)\n",
    "\n",
    "print(t)\n",
    "\n",
    "a.append(5)\n",
    "b.append(6)\n",
    "\n",
    "print(t)"
   ]
  },
  {
   "cell_type": "markdown",
   "id": "b675b4db-0bcc-4895-bccc-986183a98551",
   "metadata": {},
   "source": [
    "## **Variable Equality**"
   ]
  },
  {
   "cell_type": "markdown",
   "id": "a7863ece-acb0-4261-8199-963d7b9aa8f4",
   "metadata": {},
   "source": [
    "There is two ways to check equality,<br>\n",
    "1. Memory Address - check if two objects have same memory address, this is done using 'is' operator\n",
    "2. Object(data) - check if two objects have same value, this is done using '==' operator"
   ]
  },
  {
   "cell_type": "code",
   "execution_count": 4,
   "id": "45fc4852-fbf0-4ecf-aac0-a989d86f5134",
   "metadata": {},
   "outputs": [],
   "source": [
    "a = 10\n",
    "b = a"
   ]
  },
  {
   "cell_type": "code",
   "execution_count": 5,
   "id": "831d509b-cbb2-4d92-85b8-1edb2c9adf14",
   "metadata": {},
   "outputs": [
    {
     "data": {
      "text/plain": [
       "True"
      ]
     },
     "execution_count": 5,
     "metadata": {},
     "output_type": "execute_result"
    }
   ],
   "source": [
    "a is b"
   ]
  },
  {
   "cell_type": "code",
   "execution_count": 6,
   "id": "c59c466d-ad2b-4441-a743-10367148aed3",
   "metadata": {},
   "outputs": [
    {
     "data": {
      "text/plain": [
       "True"
      ]
     },
     "execution_count": 6,
     "metadata": {},
     "output_type": "execute_result"
    }
   ],
   "source": [
    "a == b"
   ]
  },
  {
   "cell_type": "code",
   "execution_count": 7,
   "id": "ee469048-f733-4383-897a-98604c938811",
   "metadata": {},
   "outputs": [],
   "source": [
    "a = [1, 2, 3]\n",
    "b = [1, 2, 3]"
   ]
  },
  {
   "cell_type": "code",
   "execution_count": 8,
   "id": "a9e3c0a6-41f0-4bee-a572-04e705509fa3",
   "metadata": {},
   "outputs": [
    {
     "data": {
      "text/plain": [
       "False"
      ]
     },
     "execution_count": 8,
     "metadata": {},
     "output_type": "execute_result"
    }
   ],
   "source": [
    "a is b"
   ]
  },
  {
   "cell_type": "code",
   "execution_count": 9,
   "id": "17c4db70-139f-4839-ae91-5ffcefa1fbaf",
   "metadata": {},
   "outputs": [
    {
     "data": {
      "text/plain": [
       "True"
      ]
     },
     "execution_count": 9,
     "metadata": {},
     "output_type": "execute_result"
    }
   ],
   "source": [
    "a == b"
   ]
  },
  {
   "cell_type": "code",
   "execution_count": null,
   "id": "a2561dab-4d22-4be6-adf7-769de5d97696",
   "metadata": {},
   "outputs": [],
   "source": []
  }
 ],
 "metadata": {
  "kernelspec": {
   "display_name": "Python 3 (ipykernel)",
   "language": "python",
   "name": "python3"
  },
  "language_info": {
   "codemirror_mode": {
    "name": "ipython",
    "version": 3
   },
   "file_extension": ".py",
   "mimetype": "text/x-python",
   "name": "python",
   "nbconvert_exporter": "python",
   "pygments_lexer": "ipython3",
   "version": "3.12.1"
  }
 },
 "nbformat": 4,
 "nbformat_minor": 5
}
