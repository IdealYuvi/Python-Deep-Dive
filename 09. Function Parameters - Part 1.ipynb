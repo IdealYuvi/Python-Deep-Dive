{
 "cells": [
  {
   "cell_type": "markdown",
   "id": "5596fd8b-9c32-4c3b-9e97-b9fdb9b33e97",
   "metadata": {},
   "source": [
    "## **Positional and Keyword Arguments**"
   ]
  },
  {
   "cell_type": "code",
   "execution_count": 1,
   "id": "9e61750a-2797-40fd-a239-9f76f03369ee",
   "metadata": {},
   "outputs": [],
   "source": [
    "def my_func(a, b, c):\n",
    "    print(f'a={a}, b={b}, c={c}')"
   ]
  },
  {
   "cell_type": "code",
   "execution_count": 2,
   "id": "db32d616-486a-402f-b474-a8960398003c",
   "metadata": {},
   "outputs": [
    {
     "name": "stdout",
     "output_type": "stream",
     "text": [
      "a=1, b=2, c=3\n"
     ]
    }
   ],
   "source": [
    "my_func(1, 2, 3)"
   ]
  },
  {
   "cell_type": "markdown",
   "id": "a38fdee2-5003-4d51-bdf7-89f3abdc7e42",
   "metadata": {},
   "source": [
    "Giving default values to arguments,"
   ]
  },
  {
   "cell_type": "code",
   "execution_count": 3,
   "id": "ac68358a-0fa1-490c-aadb-c3231455e22f",
   "metadata": {},
   "outputs": [],
   "source": [
    "def my_func(a=1, b=2, c=3):\n",
    "    print(f'a={a}, b={b}, c={c}')"
   ]
  },
  {
   "cell_type": "code",
   "execution_count": 4,
   "id": "1337de0d-ba5b-4f4c-8d23-0ac16d8c4e48",
   "metadata": {},
   "outputs": [
    {
     "name": "stdout",
     "output_type": "stream",
     "text": [
      "a=10, b=20, c=30\n"
     ]
    }
   ],
   "source": [
    "my_func(10,20,30)"
   ]
  },
  {
   "cell_type": "code",
   "execution_count": 5,
   "id": "9c35dcc2-78b4-4639-a93b-017e981dea8f",
   "metadata": {},
   "outputs": [
    {
     "name": "stdout",
     "output_type": "stream",
     "text": [
      "a=10, b=2, c=3\n"
     ]
    }
   ],
   "source": [
    "my_func(10)"
   ]
  },
  {
   "cell_type": "code",
   "execution_count": 6,
   "id": "77961845-66cc-453c-ba78-f1f39d96dedf",
   "metadata": {},
   "outputs": [
    {
     "name": "stdout",
     "output_type": "stream",
     "text": [
      "a=10, b=35, c=20\n"
     ]
    }
   ],
   "source": [
    "my_func(c=20,a=10,b=35)"
   ]
  },
  {
   "cell_type": "code",
   "execution_count": 7,
   "id": "8be057d2-4e0f-41b3-85ea-530675cac0f0",
   "metadata": {},
   "outputs": [
    {
     "name": "stdout",
     "output_type": "stream",
     "text": [
      "a=10, b=10, c=20\n"
     ]
    }
   ],
   "source": [
    "my_func(10, c=20, b=10)"
   ]
  },
  {
   "cell_type": "code",
   "execution_count": 8,
   "id": "8402ed3e-1a89-427e-b9bb-c1474be76be6",
   "metadata": {},
   "outputs": [],
   "source": [
    "# my_func(a=10, 20, 30) - this is not allowed because positional argument follows keyword argument"
   ]
  },
  {
   "cell_type": "markdown",
   "id": "f3d142d3-a58c-415c-90dc-e12ec5fc261f",
   "metadata": {},
   "source": [
    "#### **Side Note on Tuples**"
   ]
  },
  {
   "cell_type": "markdown",
   "id": "f2135941-f75c-4df1-8fe8-ae1e4170f84c",
   "metadata": {},
   "source": [
    "What defines a Tuple is not `()` but `,`. <br>\n",
    "To create a single element tuple, `(1)` will not work, you have to write `(1,)`. <br>\n",
    "But to create an empty tuple, you can use `()` or `tuple()`."
   ]
  },
  {
   "cell_type": "code",
   "execution_count": 9,
   "id": "efa55cb9-583d-4a57-81ea-f13f3d041ad9",
   "metadata": {},
   "outputs": [],
   "source": [
    "t = (1)"
   ]
  },
  {
   "cell_type": "code",
   "execution_count": 10,
   "id": "6a85f71b-e2e3-4703-9064-942b59bf142a",
   "metadata": {},
   "outputs": [
    {
     "name": "stdout",
     "output_type": "stream",
     "text": [
      "1\n"
     ]
    }
   ],
   "source": [
    "print(t)"
   ]
  },
  {
   "cell_type": "code",
   "execution_count": 11,
   "id": "19e4b029-baa9-418f-bd9d-d5145d97ea54",
   "metadata": {},
   "outputs": [
    {
     "data": {
      "text/plain": [
       "int"
      ]
     },
     "execution_count": 11,
     "metadata": {},
     "output_type": "execute_result"
    }
   ],
   "source": [
    "type(t)"
   ]
  },
  {
   "cell_type": "code",
   "execution_count": 12,
   "id": "fbd951a1-d931-4dc1-b10f-be76508a6afe",
   "metadata": {},
   "outputs": [],
   "source": [
    "t = (1,)"
   ]
  },
  {
   "cell_type": "code",
   "execution_count": 13,
   "id": "e5bd7c77-8aff-4b08-b4a2-e49bf758d4e3",
   "metadata": {},
   "outputs": [
    {
     "name": "stdout",
     "output_type": "stream",
     "text": [
      "(1,)\n"
     ]
    }
   ],
   "source": [
    "print(t)"
   ]
  },
  {
   "cell_type": "code",
   "execution_count": 14,
   "id": "e8bcbf7b-af8e-4eed-9e77-a7632329ff9d",
   "metadata": {},
   "outputs": [
    {
     "data": {
      "text/plain": [
       "tuple"
      ]
     },
     "execution_count": 14,
     "metadata": {},
     "output_type": "execute_result"
    }
   ],
   "source": [
    "type(t)"
   ]
  },
  {
   "cell_type": "code",
   "execution_count": 15,
   "id": "3963acd7-5226-47a9-8025-1d39387acf35",
   "metadata": {},
   "outputs": [],
   "source": [
    "t = 1, 2, 4 # this also creates a tuple"
   ]
  },
  {
   "cell_type": "code",
   "execution_count": 16,
   "id": "5665440f-edd8-449b-bd0b-637b3f3f8782",
   "metadata": {},
   "outputs": [
    {
     "data": {
      "text/plain": [
       "(1, 2, 4)"
      ]
     },
     "execution_count": 16,
     "metadata": {},
     "output_type": "execute_result"
    }
   ],
   "source": [
    "t"
   ]
  },
  {
   "cell_type": "code",
   "execution_count": 17,
   "id": "3888ea58-d337-4560-af41-19c6510561c7",
   "metadata": {},
   "outputs": [
    {
     "data": {
      "text/plain": [
       "tuple"
      ]
     },
     "execution_count": 17,
     "metadata": {},
     "output_type": "execute_result"
    }
   ],
   "source": [
    "type(t)"
   ]
  },
  {
   "cell_type": "code",
   "execution_count": 18,
   "id": "76dc49d2-0997-45be-a861-bfdcd8f9c087",
   "metadata": {},
   "outputs": [],
   "source": [
    "t = ()"
   ]
  },
  {
   "cell_type": "code",
   "execution_count": 19,
   "id": "125f72ae-072a-40ad-a587-e9145a6b1098",
   "metadata": {},
   "outputs": [
    {
     "name": "stdout",
     "output_type": "stream",
     "text": [
      "()\n"
     ]
    }
   ],
   "source": [
    "print(t)"
   ]
  },
  {
   "cell_type": "code",
   "execution_count": 20,
   "id": "bb62c1c6-955e-4918-a32e-705ede18ec3d",
   "metadata": {},
   "outputs": [
    {
     "data": {
      "text/plain": [
       "tuple"
      ]
     },
     "execution_count": 20,
     "metadata": {},
     "output_type": "execute_result"
    }
   ],
   "source": [
    "type(t)"
   ]
  },
  {
   "cell_type": "markdown",
   "id": "afd9646f-1aef-45b6-a805-fd1d0f35d4aa",
   "metadata": {},
   "source": [
    "## **Unpacking Iterables**"
   ]
  },
  {
   "cell_type": "code",
   "execution_count": 21,
   "id": "d3c4f901-e7c4-4bc6-bf19-a98f57f8a979",
   "metadata": {},
   "outputs": [],
   "source": [
    "a, b, c = [1, 2, 3]"
   ]
  },
  {
   "cell_type": "code",
   "execution_count": 22,
   "id": "cede6923-d855-4091-a8fb-be23e9eabc25",
   "metadata": {},
   "outputs": [
    {
     "name": "stdout",
     "output_type": "stream",
     "text": [
      "1 2 3\n"
     ]
    }
   ],
   "source": [
    "print(a, b, c)"
   ]
  },
  {
   "cell_type": "code",
   "execution_count": 23,
   "id": "27f2786d-bec9-41b1-a860-5dd31f88d2cf",
   "metadata": {},
   "outputs": [],
   "source": [
    "a, b, c = 10, 'hello', [1, 2]"
   ]
  },
  {
   "cell_type": "code",
   "execution_count": 24,
   "id": "44128baf-2ea5-472e-b692-c0a1d5e99549",
   "metadata": {},
   "outputs": [
    {
     "data": {
      "text/plain": [
       "10"
      ]
     },
     "execution_count": 24,
     "metadata": {},
     "output_type": "execute_result"
    }
   ],
   "source": [
    "a"
   ]
  },
  {
   "cell_type": "code",
   "execution_count": 25,
   "id": "7aefa0ca-1a33-4fb3-9d75-986354110fe0",
   "metadata": {},
   "outputs": [
    {
     "data": {
      "text/plain": [
       "'hello'"
      ]
     },
     "execution_count": 25,
     "metadata": {},
     "output_type": "execute_result"
    }
   ],
   "source": [
    "b"
   ]
  },
  {
   "cell_type": "code",
   "execution_count": 26,
   "id": "5b8c1c25-e4c7-42df-b86a-154068a381c9",
   "metadata": {},
   "outputs": [
    {
     "data": {
      "text/plain": [
       "[1, 2]"
      ]
     },
     "execution_count": 26,
     "metadata": {},
     "output_type": "execute_result"
    }
   ],
   "source": [
    "c"
   ]
  },
  {
   "cell_type": "markdown",
   "id": "068c073f-f85d-49d7-b2de-c6083760360a",
   "metadata": {},
   "source": [
    "To swap two variable,"
   ]
  },
  {
   "cell_type": "code",
   "execution_count": 27,
   "id": "7a7e8476-79d0-407d-8a3b-775dd4fdb86b",
   "metadata": {},
   "outputs": [],
   "source": [
    "a = 10\n",
    "b = 20\n",
    "\n",
    "a, b = b, a"
   ]
  },
  {
   "cell_type": "code",
   "execution_count": 28,
   "id": "eabe4f11-1d8e-43ec-9516-93b16513f447",
   "metadata": {},
   "outputs": [
    {
     "data": {
      "text/plain": [
       "20"
      ]
     },
     "execution_count": 28,
     "metadata": {},
     "output_type": "execute_result"
    }
   ],
   "source": [
    "a"
   ]
  },
  {
   "cell_type": "code",
   "execution_count": 29,
   "id": "53893a16-434f-48a3-bb71-a0b076ed6b0a",
   "metadata": {},
   "outputs": [
    {
     "data": {
      "text/plain": [
       "10"
      ]
     },
     "execution_count": 29,
     "metadata": {},
     "output_type": "execute_result"
    }
   ],
   "source": [
    "b"
   ]
  },
  {
   "cell_type": "markdown",
   "id": "67aca2f7-56d8-4c81-9e1c-c40430e37bb9",
   "metadata": {},
   "source": [
    "This works in Python because the entire RHS is evaluated first and completely, then assignments are made to LHS."
   ]
  },
  {
   "cell_type": "code",
   "execution_count": 30,
   "id": "a175b5dd-4ad4-4968-900f-d599c9e2e96e",
   "metadata": {},
   "outputs": [],
   "source": [
    "lst = [1, 2, 3, 4, 5, 6]\n",
    "\n",
    "a, b = lst[0], lst[1:]"
   ]
  },
  {
   "cell_type": "code",
   "execution_count": 31,
   "id": "7dca6022-9d60-4b0f-9629-1385674863f2",
   "metadata": {},
   "outputs": [
    {
     "data": {
      "text/plain": [
       "1"
      ]
     },
     "execution_count": 31,
     "metadata": {},
     "output_type": "execute_result"
    }
   ],
   "source": [
    "a"
   ]
  },
  {
   "cell_type": "code",
   "execution_count": 32,
   "id": "f83f3d8c-8720-4b49-bb09-5fbfa39825aa",
   "metadata": {},
   "outputs": [
    {
     "data": {
      "text/plain": [
       "[2, 3, 4, 5, 6]"
      ]
     },
     "execution_count": 32,
     "metadata": {},
     "output_type": "execute_result"
    }
   ],
   "source": [
    "b"
   ]
  },
  {
   "cell_type": "markdown",
   "id": "12cf7103-88a6-4a1f-a830-ccd655b5afc1",
   "metadata": {},
   "source": [
    "The below syntax extracts first object in an iterable and stuff it inot first variable, <br>\n",
    "then creates a list of remaining objects and put it in second variable. The `*` operator is used for this."
   ]
  },
  {
   "cell_type": "code",
   "execution_count": 33,
   "id": "ea510367-40a2-4b85-ab0d-afe5f13410dc",
   "metadata": {},
   "outputs": [],
   "source": [
    "c, *d = lst "
   ]
  },
  {
   "cell_type": "code",
   "execution_count": 34,
   "id": "6482ba33-f865-4f02-8f60-d98e44f37fe8",
   "metadata": {},
   "outputs": [
    {
     "data": {
      "text/plain": [
       "1"
      ]
     },
     "execution_count": 34,
     "metadata": {},
     "output_type": "execute_result"
    }
   ],
   "source": [
    "c"
   ]
  },
  {
   "cell_type": "code",
   "execution_count": 35,
   "id": "c114c24c-b219-4924-bf22-fd676761526c",
   "metadata": {},
   "outputs": [
    {
     "data": {
      "text/plain": [
       "[2, 3, 4, 5, 6]"
      ]
     },
     "execution_count": 35,
     "metadata": {},
     "output_type": "execute_result"
    }
   ],
   "source": [
    "d"
   ]
  },
  {
   "cell_type": "code",
   "execution_count": 36,
   "id": "2024be61-2087-4f3c-b25f-328cc178ce74",
   "metadata": {},
   "outputs": [],
   "source": [
    "e, *f = (-10, 5, 2, 100)"
   ]
  },
  {
   "cell_type": "code",
   "execution_count": 37,
   "id": "810e03e0-5b75-4e88-8482-7a57c5caf52b",
   "metadata": {},
   "outputs": [
    {
     "data": {
      "text/plain": [
       "-10"
      ]
     },
     "execution_count": 37,
     "metadata": {},
     "output_type": "execute_result"
    }
   ],
   "source": [
    "e"
   ]
  },
  {
   "cell_type": "code",
   "execution_count": 38,
   "id": "d847abef-0c8a-419f-864d-36a384e91b7e",
   "metadata": {},
   "outputs": [
    {
     "data": {
      "text/plain": [
       "[5, 2, 100]"
      ]
     },
     "execution_count": 38,
     "metadata": {},
     "output_type": "execute_result"
    }
   ],
   "source": [
    "f # notice this is a list but we unpacked from a tuple"
   ]
  },
  {
   "cell_type": "code",
   "execution_count": 39,
   "id": "a8f6eb1c-282e-48ba-bc6c-35a9e2b999dd",
   "metadata": {},
   "outputs": [],
   "source": [
    "a, *b = 'xyz'"
   ]
  },
  {
   "cell_type": "code",
   "execution_count": 40,
   "id": "91a7bdcc-5b37-4d05-a88e-0128c0f006d3",
   "metadata": {},
   "outputs": [
    {
     "data": {
      "text/plain": [
       "'x'"
      ]
     },
     "execution_count": 40,
     "metadata": {},
     "output_type": "execute_result"
    }
   ],
   "source": [
    "a"
   ]
  },
  {
   "cell_type": "code",
   "execution_count": 41,
   "id": "bd338884-449c-4036-8771-4f06dff1156e",
   "metadata": {},
   "outputs": [
    {
     "data": {
      "text/plain": [
       "['y', 'z']"
      ]
     },
     "execution_count": 41,
     "metadata": {},
     "output_type": "execute_result"
    }
   ],
   "source": [
    "b"
   ]
  },
  {
   "cell_type": "code",
   "execution_count": 42,
   "id": "036c2473-69bc-40d2-85c3-db52e7e3750d",
   "metadata": {},
   "outputs": [],
   "source": [
    "a, b, *c = 1, 2, 3, 4, 5"
   ]
  },
  {
   "cell_type": "code",
   "execution_count": 43,
   "id": "970555e2-1102-4457-9845-559b0e5f3f86",
   "metadata": {},
   "outputs": [
    {
     "name": "stdout",
     "output_type": "stream",
     "text": [
      "1 2 [3, 4, 5]\n"
     ]
    }
   ],
   "source": [
    "print(a, b, c)"
   ]
  },
  {
   "cell_type": "code",
   "execution_count": 44,
   "id": "3d3100fc-ec50-4d78-b9a8-0f17155a4ffe",
   "metadata": {},
   "outputs": [],
   "source": [
    "a, b, *c, d = [1, 2, 3, 4, 5, 6]"
   ]
  },
  {
   "cell_type": "code",
   "execution_count": 45,
   "id": "33cfbe9e-0f46-4e59-8b08-8dec0ab9ceb7",
   "metadata": {},
   "outputs": [
    {
     "name": "stdout",
     "output_type": "stream",
     "text": [
      "1 2 [3, 4, 5] 6\n"
     ]
    }
   ],
   "source": [
    "print(a, b, c, d)"
   ]
  },
  {
   "cell_type": "code",
   "execution_count": 46,
   "id": "f709f97c-1801-4e25-9ed3-fb0a82dea97e",
   "metadata": {},
   "outputs": [],
   "source": [
    "a, *b, c, d = 'python'"
   ]
  },
  {
   "cell_type": "code",
   "execution_count": 47,
   "id": "7a58c97c-3d75-428b-9d39-133e924e6c33",
   "metadata": {},
   "outputs": [
    {
     "name": "stdout",
     "output_type": "stream",
     "text": [
      "p ['y', 't', 'h'] o n\n"
     ]
    }
   ],
   "source": [
    "print(a, b, c, d)"
   ]
  },
  {
   "cell_type": "markdown",
   "id": "bd342ba4-2ade-41b7-9513-c65478247018",
   "metadata": {},
   "source": [
    "The `*` operator can only be used once on the LHS, so something like `a,*b,c,*d = list` is not allowed."
   ]
  },
  {
   "cell_type": "markdown",
   "id": "9c22a019-1bb4-4160-86b7-3117818c9d2b",
   "metadata": {},
   "source": [
    "The `*` operator can also be used on RHS."
   ]
  },
  {
   "cell_type": "code",
   "execution_count": 48,
   "id": "93da87f8-9d27-4b44-9f08-0c209a2712b3",
   "metadata": {},
   "outputs": [],
   "source": [
    "l1 = [1,2,3]\n",
    "l2 = [4,5,6]"
   ]
  },
  {
   "cell_type": "code",
   "execution_count": 49,
   "id": "ea24aed0-65d6-4553-ade4-7eacf5506c4b",
   "metadata": {},
   "outputs": [],
   "source": [
    "l3 = [*l1, *l2]"
   ]
  },
  {
   "cell_type": "code",
   "execution_count": 50,
   "id": "5a0472e9-915e-442d-89c9-40ba2f635669",
   "metadata": {},
   "outputs": [
    {
     "data": {
      "text/plain": [
       "[1, 2, 3, 4, 5, 6]"
      ]
     },
     "execution_count": 50,
     "metadata": {},
     "output_type": "execute_result"
    }
   ],
   "source": [
    "l3"
   ]
  },
  {
   "cell_type": "code",
   "execution_count": 51,
   "id": "5f2d43d4-dfce-41d6-a6db-2372c9176687",
   "metadata": {},
   "outputs": [],
   "source": [
    "s = 'uvwxyz'\n",
    "l4 = [*s]"
   ]
  },
  {
   "cell_type": "code",
   "execution_count": 52,
   "id": "e5de17cf-62cd-4464-a289-c985f5febddc",
   "metadata": {},
   "outputs": [
    {
     "data": {
      "text/plain": [
       "['u', 'v', 'w', 'x', 'y', 'z']"
      ]
     },
     "execution_count": 52,
     "metadata": {},
     "output_type": "execute_result"
    }
   ],
   "source": [
    "l4"
   ]
  },
  {
   "cell_type": "markdown",
   "id": "1a5e7e55-92e3-4e51-b1f3-c229cfd797c3",
   "metadata": {},
   "source": [
    "The `*` operator can also be used with sets and dictionaries but the since they're unordered types, the unpacking order may differ."
   ]
  },
  {
   "cell_type": "code",
   "execution_count": 53,
   "id": "62494a52-13ae-4258-b62a-8dc52571c23e",
   "metadata": {},
   "outputs": [],
   "source": [
    "d1 = {'p': 1, 'y': 2}\n",
    "d2 = {'t': 3, 'h': 4}\n",
    "d3 = {'h': 5, 'o': 6, 'n': 7}"
   ]
  },
  {
   "cell_type": "code",
   "execution_count": 54,
   "id": "9e1738ce-781e-4fb2-94c9-7268a95db5ca",
   "metadata": {},
   "outputs": [],
   "source": [
    "d = [*d1, *d2, *d3] # extracts the keys of the dictionary and puts in the list "
   ]
  },
  {
   "cell_type": "code",
   "execution_count": 55,
   "id": "13891620-01e0-4a4a-9f09-004c3c8346bb",
   "metadata": {},
   "outputs": [
    {
     "data": {
      "text/plain": [
       "['p', 'y', 't', 'h', 'h', 'o', 'n']"
      ]
     },
     "execution_count": 55,
     "metadata": {},
     "output_type": "execute_result"
    }
   ],
   "source": [
    "d"
   ]
  },
  {
   "cell_type": "markdown",
   "id": "3eff40ac-63dd-47ba-9569-42920f0e25fd",
   "metadata": {},
   "source": [
    "To get key-value pairs, use `**` operator, this operator cannot be used on LHS of an assignment. <br>\n",
    "This operator only works with dictionary."
   ]
  },
  {
   "cell_type": "code",
   "execution_count": 56,
   "id": "fc9e3ff1-0d0d-4ad0-9b97-362a7b527cf4",
   "metadata": {},
   "outputs": [],
   "source": [
    "d = {**d1, **d2, **d3}"
   ]
  },
  {
   "cell_type": "code",
   "execution_count": 57,
   "id": "90e41266-83e6-41be-8810-f2280150a821",
   "metadata": {},
   "outputs": [
    {
     "data": {
      "text/plain": [
       "{'p': 1, 'y': 2, 't': 3, 'h': 5, 'o': 6, 'n': 7}"
      ]
     },
     "execution_count": 57,
     "metadata": {},
     "output_type": "execute_result"
    }
   ],
   "source": [
    "d # note that the value of 'h' in d3 overwrote the first value of 'h' found in d2"
   ]
  },
  {
   "cell_type": "markdown",
   "id": "b2ea4346-97a8-4fd2-8c1f-7a9d7b543572",
   "metadata": {},
   "source": [
    "Nested unpacking, "
   ]
  },
  {
   "cell_type": "code",
   "execution_count": 58,
   "id": "7f9367a6-7ca8-4901-bfc4-7856a5e3fddf",
   "metadata": {},
   "outputs": [],
   "source": [
    "l = [1, 2, [3, 4]]"
   ]
  },
  {
   "cell_type": "code",
   "execution_count": 59,
   "id": "d5da2b58-917a-49aa-a273-4a469e6a0785",
   "metadata": {},
   "outputs": [],
   "source": [
    "a, b, (c, d) = l"
   ]
  },
  {
   "cell_type": "code",
   "execution_count": 60,
   "id": "cfb9ead5-187b-4211-8a72-88020736b904",
   "metadata": {},
   "outputs": [
    {
     "name": "stdout",
     "output_type": "stream",
     "text": [
      "1 2 3 4\n"
     ]
    }
   ],
   "source": [
    "print(a, b, c, d)"
   ]
  },
  {
   "cell_type": "code",
   "execution_count": 61,
   "id": "490e2f85-239d-487f-a530-7e5aeda8c3ca",
   "metadata": {},
   "outputs": [],
   "source": [
    "a, *b, (c, d, e) = [1, 2, 3, 'xyz']"
   ]
  },
  {
   "cell_type": "code",
   "execution_count": 62,
   "id": "50538223-a3da-4adc-bcf7-85f6134fc2d2",
   "metadata": {},
   "outputs": [
    {
     "name": "stdout",
     "output_type": "stream",
     "text": [
      "1 [2, 3]\n"
     ]
    }
   ],
   "source": [
    "print(a, b)"
   ]
  },
  {
   "cell_type": "code",
   "execution_count": 63,
   "id": "474e91e3-f840-42c1-8802-5b7a5b5a0f3e",
   "metadata": {},
   "outputs": [
    {
     "name": "stdout",
     "output_type": "stream",
     "text": [
      "x y z\n"
     ]
    }
   ],
   "source": [
    "print(c, d, e)"
   ]
  },
  {
   "cell_type": "markdown",
   "id": "c1ce79af-f59b-4098-9c35-610d6b7bdf0b",
   "metadata": {},
   "source": [
    "More than 1 `*` operator on LHS is allowed, if it is nested."
   ]
  },
  {
   "cell_type": "code",
   "execution_count": 64,
   "id": "68cb7a03-163b-4c96-946b-831a5ac671dc",
   "metadata": {},
   "outputs": [],
   "source": [
    "a, *b, (c, *d) = [1, 2, 3, 'python']"
   ]
  },
  {
   "cell_type": "code",
   "execution_count": 65,
   "id": "7a0dfb8d-ce5e-4a9d-a88e-2f5d011e999f",
   "metadata": {},
   "outputs": [
    {
     "name": "stdout",
     "output_type": "stream",
     "text": [
      "1 [2, 3]\n"
     ]
    }
   ],
   "source": [
    "print(a, b)"
   ]
  },
  {
   "cell_type": "code",
   "execution_count": 66,
   "id": "98445400-99e9-4d40-8016-d966e33d24dd",
   "metadata": {},
   "outputs": [
    {
     "name": "stdout",
     "output_type": "stream",
     "text": [
      "p ['y', 't', 'h', 'o', 'n']\n"
     ]
    }
   ],
   "source": [
    "print(c, d)"
   ]
  },
  {
   "cell_type": "markdown",
   "id": "ca104e8b-1b4c-4559-b513-5a38b45cd0fa",
   "metadata": {},
   "source": [
    "## **\\*args**"
   ]
  },
  {
   "cell_type": "code",
   "execution_count": 67,
   "id": "29de9ae0-08cc-4fe0-a1b3-514d11de307f",
   "metadata": {},
   "outputs": [],
   "source": [
    "def func1(a, b, *args): # it is customary to use *args but technically we can use any word followed by '*'\n",
    "    print(a)\n",
    "    print(b)\n",
    "    print(args)"
   ]
  },
  {
   "cell_type": "code",
   "execution_count": 68,
   "id": "f3cbf085-1673-4c6d-87a7-fb18dfaa7558",
   "metadata": {},
   "outputs": [
    {
     "name": "stdout",
     "output_type": "stream",
     "text": [
      "10\n",
      "20\n",
      "()\n"
     ]
    }
   ],
   "source": [
    "func1(10, 20)"
   ]
  },
  {
   "cell_type": "code",
   "execution_count": 69,
   "id": "3958b626-c530-47ec-99a9-89c069fca20f",
   "metadata": {},
   "outputs": [
    {
     "name": "stdout",
     "output_type": "stream",
     "text": [
      "10\n",
      "20\n",
      "(1, 2, 3)\n"
     ]
    }
   ],
   "source": [
    "func1(10, 20, 1, 2, 3) # notice *args created tuple here and not list"
   ]
  },
  {
   "cell_type": "code",
   "execution_count": 70,
   "id": "3ee571f3-965c-4f30-8c9f-9064a0a17e3d",
   "metadata": {},
   "outputs": [],
   "source": [
    "def avg(*args):\n",
    "    count = len(args)\n",
    "    total = sum(args)\n",
    "\n",
    "    return count and total/count"
   ]
  },
  {
   "cell_type": "code",
   "execution_count": 71,
   "id": "c49b2f8a-d224-478d-95bd-f41a82a9da3b",
   "metadata": {},
   "outputs": [
    {
     "data": {
      "text/plain": [
       "3.0"
      ]
     },
     "execution_count": 71,
     "metadata": {},
     "output_type": "execute_result"
    }
   ],
   "source": [
    "avg(2, 2, 4, 4)"
   ]
  },
  {
   "cell_type": "code",
   "execution_count": 72,
   "id": "f87834c6-f464-4e33-94ea-755d1248e754",
   "metadata": {},
   "outputs": [
    {
     "data": {
      "text/plain": [
       "0"
      ]
     },
     "execution_count": 72,
     "metadata": {},
     "output_type": "execute_result"
    }
   ],
   "source": [
    "avg()"
   ]
  },
  {
   "cell_type": "code",
   "execution_count": 73,
   "id": "e5f1a9fc-b156-44ce-9721-8cad2aa4e284",
   "metadata": {},
   "outputs": [],
   "source": [
    "def func2(a, b, c, *args):\n",
    "    print(a)\n",
    "    print(b)\n",
    "    print(c)\n",
    "    print(args)"
   ]
  },
  {
   "cell_type": "code",
   "execution_count": 74,
   "id": "bc4059f3-d454-417e-a0b5-5f41a38579d8",
   "metadata": {},
   "outputs": [
    {
     "name": "stdout",
     "output_type": "stream",
     "text": [
      "1\n",
      "2\n",
      "3\n",
      "(4, 5)\n"
     ]
    }
   ],
   "source": [
    "l = [1, 2, 3, 4, 5]\n",
    "\n",
    "func2(*l)"
   ]
  },
  {
   "cell_type": "code",
   "execution_count": 75,
   "id": "2e8fa524-7efd-4bcc-a1d9-9a421a0a8f22",
   "metadata": {},
   "outputs": [],
   "source": [
    "def func3(a, b, *args, c):\n",
    "    print(a, b, args, c)"
   ]
  },
  {
   "cell_type": "code",
   "execution_count": 76,
   "id": "dfffabab-7c51-45fd-938b-9ac9e74e6f7b",
   "metadata": {},
   "outputs": [
    {
     "name": "stdout",
     "output_type": "stream",
     "text": [
      "1 2 (3, 4) 5\n"
     ]
    }
   ],
   "source": [
    "func3(1, 2, 3, 4, c=5)"
   ]
  },
  {
   "cell_type": "code",
   "execution_count": 77,
   "id": "11e9de00-8c50-4ca5-ae19-aad336a65f21",
   "metadata": {},
   "outputs": [],
   "source": [
    "def func4(*args, d):\n",
    "    print(args, d)"
   ]
  },
  {
   "cell_type": "code",
   "execution_count": 78,
   "id": "e9cf3d8d-6d6e-4135-9a40-eccd2f625d1a",
   "metadata": {},
   "outputs": [
    {
     "name": "stdout",
     "output_type": "stream",
     "text": [
      "(1, 2, 3) a\n"
     ]
    }
   ],
   "source": [
    "func4(1, 2, 3, d='a')"
   ]
  },
  {
   "cell_type": "code",
   "execution_count": 79,
   "id": "b934f580-c225-4632-a4e3-1ff846bd84cc",
   "metadata": {},
   "outputs": [
    {
     "name": "stdout",
     "output_type": "stream",
     "text": [
      "() b\n"
     ]
    }
   ],
   "source": [
    "func4(d='b')"
   ]
  },
  {
   "cell_type": "code",
   "execution_count": 80,
   "id": "794d04e6-3a5c-47ac-80ae-14643bfac918",
   "metadata": {},
   "outputs": [],
   "source": [
    "def func5(*, d): # here '*' means the end of positional arguments, so here no positional argument can be passed\n",
    "    print(d)"
   ]
  },
  {
   "cell_type": "code",
   "execution_count": 81,
   "id": "ce4d0504-8b8a-4278-a3dc-2f00e4ce50fa",
   "metadata": {},
   "outputs": [
    {
     "name": "stdout",
     "output_type": "stream",
     "text": [
      "100\n"
     ]
    }
   ],
   "source": [
    "func5(d=100)"
   ]
  },
  {
   "cell_type": "code",
   "execution_count": 82,
   "id": "1d6bd224-be27-4c76-b96e-681e27a51c51",
   "metadata": {},
   "outputs": [],
   "source": [
    "def func6(a, b=2, *args, d):\n",
    "    print(a, b, args, d)"
   ]
  },
  {
   "cell_type": "code",
   "execution_count": 83,
   "id": "c2f16c13-9f82-45d0-a72d-1f891f423279",
   "metadata": {},
   "outputs": [
    {
     "name": "stdout",
     "output_type": "stream",
     "text": [
      "1 5 (3, 4) a\n"
     ]
    }
   ],
   "source": [
    "func6(1, 5, 3, 4, d='a')"
   ]
  },
  {
   "cell_type": "code",
   "execution_count": 84,
   "id": "fb3ea9c7-6cb7-4cfd-82e4-15864e2f2863",
   "metadata": {},
   "outputs": [],
   "source": [
    "def func6(a, b=2, *args, d=0, e):\n",
    "    print(a, b, args, d, e)"
   ]
  },
  {
   "cell_type": "code",
   "execution_count": 85,
   "id": "3a4483ab-d2a8-46ed-9479-43f5e2f8149a",
   "metadata": {},
   "outputs": [
    {
     "name": "stdout",
     "output_type": "stream",
     "text": [
      "5 4 (3, 2, 1) 0 all engines running\n"
     ]
    }
   ],
   "source": [
    "func6(5, 4, 3, 2, 1, e ='all engines running')"
   ]
  },
  {
   "cell_type": "code",
   "execution_count": 86,
   "id": "3694376f-e923-4544-a5b0-802e31a2848f",
   "metadata": {},
   "outputs": [
    {
     "name": "stdout",
     "output_type": "stream",
     "text": [
      "0 600 () good morning python!\n"
     ]
    }
   ],
   "source": [
    "func6(0, 600, d='good morning', e='python!')"
   ]
  },
  {
   "cell_type": "markdown",
   "id": "16a0a61e-b34f-4c14-a828-c4d891bfcf51",
   "metadata": {},
   "source": [
    "## **\\*\\*kwargs**"
   ]
  },
  {
   "cell_type": "markdown",
   "id": "b1608078-acd9-42f6-a568-b1e78acd60ed",
   "metadata": {},
   "source": [
    "No parameters can come after `**kwargs`"
   ]
  },
  {
   "cell_type": "code",
   "execution_count": 87,
   "id": "21c047f4-e371-4a1f-83b0-30614485f4b4",
   "metadata": {},
   "outputs": [],
   "source": [
    "def func1(**kwargs):\n",
    "    print(kwargs)"
   ]
  },
  {
   "cell_type": "code",
   "execution_count": 88,
   "id": "4e3cc1e1-7c1d-469a-81f5-a430407a3e0f",
   "metadata": {},
   "outputs": [
    {
     "name": "stdout",
     "output_type": "stream",
     "text": [
      "{'a': 1, 'b': 2, 'c': 3}\n"
     ]
    }
   ],
   "source": [
    "func1(a=1, b=2, c=3)"
   ]
  },
  {
   "cell_type": "code",
   "execution_count": 89,
   "id": "562c13cf-d39c-46d1-bd3f-6108d0441f30",
   "metadata": {},
   "outputs": [],
   "source": [
    "def func2(*args, **kwargs):\n",
    "    print(args)\n",
    "    print(kwargs)"
   ]
  },
  {
   "cell_type": "code",
   "execution_count": 90,
   "id": "3eeb7ce2-2c97-4d68-98ff-90caf654abcf",
   "metadata": {},
   "outputs": [
    {
     "name": "stdout",
     "output_type": "stream",
     "text": [
      "(1, 2)\n",
      "{'x': 100, 'y': 200}\n"
     ]
    }
   ],
   "source": [
    "func2(1, 2, x=100, y=200)"
   ]
  },
  {
   "cell_type": "code",
   "execution_count": 91,
   "id": "031cbb72-9e87-42a2-b266-42d767315810",
   "metadata": {},
   "outputs": [],
   "source": [
    "def func3(a, b, *, d, **kwargs): # a named argument should follow '*', so '**kwargs' cannot come directly after '*'\n",
    "    print(a)\n",
    "    print(b)\n",
    "    print(d)\n",
    "    print(kwargs)"
   ]
  },
  {
   "cell_type": "code",
   "execution_count": 92,
   "id": "72989432-3fc0-4d17-bf99-7336512c3c27",
   "metadata": {},
   "outputs": [
    {
     "name": "stdout",
     "output_type": "stream",
     "text": [
      "1\n",
      "2\n",
      "a\n",
      "{'x': 100, 'y': 200}\n"
     ]
    }
   ],
   "source": [
    "func3(1, 2, x=100, y=200, d='a')"
   ]
  },
  {
   "cell_type": "code",
   "execution_count": null,
   "id": "d4b06a42-9554-43bf-8523-93f84281e368",
   "metadata": {},
   "outputs": [],
   "source": []
  }
 ],
 "metadata": {
  "kernelspec": {
   "display_name": "Python 3 (ipykernel)",
   "language": "python",
   "name": "python3"
  },
  "language_info": {
   "codemirror_mode": {
    "name": "ipython",
    "version": 3
   },
   "file_extension": ".py",
   "mimetype": "text/x-python",
   "name": "python",
   "nbconvert_exporter": "python",
   "pygments_lexer": "ipython3",
   "version": "3.12.1"
  }
 },
 "nbformat": 4,
 "nbformat_minor": 5
}
