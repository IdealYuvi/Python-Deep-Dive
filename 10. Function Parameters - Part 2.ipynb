{
 "cells": [
  {
   "cell_type": "markdown",
   "id": "0605c583-d699-432e-bcbc-4c1a090a2603",
   "metadata": {},
   "source": [
    "## **A Simple Function Timer**"
   ]
  },
  {
   "cell_type": "markdown",
   "id": "cb95da12-32ed-4907-a5fe-0cdaec818a91",
   "metadata": {},
   "source": [
    "Here, we just try out what we learned in 'Function Parameters - Part 1'."
   ]
  },
  {
   "cell_type": "code",
   "execution_count": 1,
   "id": "f6be8290-2711-484f-b38c-f0801dd195ba",
   "metadata": {},
   "outputs": [],
   "source": [
    "import time"
   ]
  },
  {
   "cell_type": "code",
   "execution_count": 2,
   "id": "20cb7df8-9125-4be9-8bd7-001bf1ce346c",
   "metadata": {},
   "outputs": [],
   "source": [
    "def time_it(fn, *args, **kwargs):\n",
    "    print(args, kwargs)"
   ]
  },
  {
   "cell_type": "code",
   "execution_count": 3,
   "id": "76332f41-6d48-4df7-b24e-5a47122660aa",
   "metadata": {},
   "outputs": [
    {
     "name": "stdout",
     "output_type": "stream",
     "text": [
      "(1, 2, 3) {'sep': '-', 'end': ' *** '}\n"
     ]
    }
   ],
   "source": [
    "time_it(print, 1, 2, 3, sep='-', end=' *** ')"
   ]
  },
  {
   "cell_type": "code",
   "execution_count": 4,
   "id": "284755ca-7fed-4442-ac25-9d924edfc503",
   "metadata": {},
   "outputs": [],
   "source": [
    "def time_it(fn, *args, **kwargs):\n",
    "    fn(args, kwargs)"
   ]
  },
  {
   "cell_type": "code",
   "execution_count": 5,
   "id": "4a2fd457-5053-4b80-95e3-909cb514fac2",
   "metadata": {},
   "outputs": [
    {
     "name": "stdout",
     "output_type": "stream",
     "text": [
      "(1, 2, 3) {'sep': '-', 'end': ' *** '}\n"
     ]
    }
   ],
   "source": [
    "time_it(print, 1, 2, 3, sep='-', end=' *** ')"
   ]
  },
  {
   "cell_type": "markdown",
   "id": "b45f3281-29d8-4151-9bbe-5ed6c125316f",
   "metadata": {},
   "source": [
    "No change between above two functions because in `fn(args, kwargs)` we are just passing a tuple(args) and a dictionary(kwargs). <br>\n",
    "We need to unpack it for it to work as desired."
   ]
  },
  {
   "cell_type": "code",
   "execution_count": 6,
   "id": "8a309599-8877-4e45-b78c-2a429cf64f3d",
   "metadata": {},
   "outputs": [],
   "source": [
    "def time_it(fn, *args, **kwargs):\n",
    "    fn(*args, **kwargs)"
   ]
  },
  {
   "cell_type": "code",
   "execution_count": 7,
   "id": "f475f0c1-989c-4b6d-9c32-aa7c059a8142",
   "metadata": {},
   "outputs": [
    {
     "name": "stdout",
     "output_type": "stream",
     "text": [
      "1-2-3 *** "
     ]
    }
   ],
   "source": [
    "time_it(print, 1, 2, 3, sep='-', end=' *** ')"
   ]
  },
  {
   "cell_type": "code",
   "execution_count": 8,
   "id": "e2f6aa7a-98e7-4842-80dd-b26531f4d50c",
   "metadata": {},
   "outputs": [],
   "source": [
    "def time_it(fn, *args, rep=1, **kwargs):\n",
    "    for i in range(rep):\n",
    "        fn(*args, **kwargs)"
   ]
  },
  {
   "cell_type": "code",
   "execution_count": 9,
   "id": "d90fe501-3fee-47ea-afd8-9d14a8fc6bf3",
   "metadata": {},
   "outputs": [
    {
     "name": "stdout",
     "output_type": "stream",
     "text": [
      "1-2-3 ***\n",
      "1-2-3 ***\n",
      "1-2-3 ***\n",
      "1-2-3 ***\n",
      "1-2-3 ***\n"
     ]
    }
   ],
   "source": [
    "time_it(print, 1, 2, 3, sep='-', end=' ***\\n', rep=5)"
   ]
  },
  {
   "cell_type": "code",
   "execution_count": 10,
   "id": "c34fc131-7476-4788-9b11-27bfcb3ac8db",
   "metadata": {},
   "outputs": [],
   "source": [
    "def time_it(fn, *args, rep=1, **kwargs):\n",
    "    start = time.perf_counter()\n",
    "    \n",
    "    for i in range(rep):\n",
    "        fn(*args, **kwargs)\n",
    "    \n",
    "    end = time.perf_counter()\n",
    "    \n",
    "    return (end - start) / rep"
   ]
  },
  {
   "cell_type": "code",
   "execution_count": 11,
   "id": "5f785b8a-d354-434f-832c-505fb840be8c",
   "metadata": {},
   "outputs": [
    {
     "name": "stdout",
     "output_type": "stream",
     "text": [
      "1-2-3 ***\n",
      "1-2-3 ***\n",
      "1-2-3 ***\n",
      "1-2-3 ***\n",
      "1-2-3 ***\n"
     ]
    },
    {
     "data": {
      "text/plain": [
       "0.00035951999998360404"
      ]
     },
     "execution_count": 11,
     "metadata": {},
     "output_type": "execute_result"
    }
   ],
   "source": [
    "time_it(print, 1, 2, 3, sep='-', end=' ***\\n', rep=5)"
   ]
  },
  {
   "cell_type": "code",
   "execution_count": 12,
   "id": "6fa80bf5-3b52-4aee-918e-914254121e90",
   "metadata": {},
   "outputs": [],
   "source": [
    "def compute_powers_1(n, *, start=1, end):\n",
    "    res = []\n",
    "    for i in range(start, end):\n",
    "        res.append(n**i)\n",
    "    return res"
   ]
  },
  {
   "cell_type": "code",
   "execution_count": 13,
   "id": "28752799-7532-4583-8c9c-17da3562d28f",
   "metadata": {},
   "outputs": [
    {
     "data": {
      "text/plain": [
       "[2, 4, 8, 16]"
      ]
     },
     "execution_count": 13,
     "metadata": {},
     "output_type": "execute_result"
    }
   ],
   "source": [
    "compute_powers_1(2, end=5)"
   ]
  },
  {
   "cell_type": "code",
   "execution_count": 14,
   "id": "e6a3bf01-502f-4c2c-98df-463ac98bc384",
   "metadata": {},
   "outputs": [],
   "source": [
    "def compute_powers_2(n, *, start=1, end):\n",
    "    return [n**i for i in range(start, end)] # using list comprehension"
   ]
  },
  {
   "cell_type": "code",
   "execution_count": 15,
   "id": "85141569-b580-4df5-91db-65048a1050d2",
   "metadata": {},
   "outputs": [
    {
     "data": {
      "text/plain": [
       "[2, 4, 8, 16]"
      ]
     },
     "execution_count": 15,
     "metadata": {},
     "output_type": "execute_result"
    }
   ],
   "source": [
    "compute_powers_2(2, end=5)"
   ]
  },
  {
   "cell_type": "code",
   "execution_count": 16,
   "id": "06d70446-90ec-48c0-85a5-0ac8adbf4c6b",
   "metadata": {},
   "outputs": [],
   "source": [
    "def compute_powers_3(n, *, start=1, end):\n",
    "    return list(n**i for i in range(start, end)) # using generator expression"
   ]
  },
  {
   "cell_type": "code",
   "execution_count": 17,
   "id": "301a88a8-fcb4-42a1-b072-64774921470f",
   "metadata": {},
   "outputs": [
    {
     "data": {
      "text/plain": [
       "[2, 4, 8, 16]"
      ]
     },
     "execution_count": 17,
     "metadata": {},
     "output_type": "execute_result"
    }
   ],
   "source": [
    "compute_powers_3(2, end=5)"
   ]
  },
  {
   "cell_type": "code",
   "execution_count": 18,
   "id": "95515b3a-9515-4a32-ad04-16ef4fd84eb9",
   "metadata": {},
   "outputs": [
    {
     "data": {
      "text/plain": [
       "0.5102251600000273"
      ]
     },
     "execution_count": 18,
     "metadata": {},
     "output_type": "execute_result"
    }
   ],
   "source": [
    "time_it(compute_powers_1, 2, end=20000, rep=5)"
   ]
  },
  {
   "cell_type": "code",
   "execution_count": 19,
   "id": "5412584a-a507-4cbe-ab99-93b3aec98e8d",
   "metadata": {},
   "outputs": [
    {
     "data": {
      "text/plain": [
       "0.510765960000026"
      ]
     },
     "execution_count": 19,
     "metadata": {},
     "output_type": "execute_result"
    }
   ],
   "source": [
    "time_it(compute_powers_2, 2, end=20000, rep=5)"
   ]
  },
  {
   "cell_type": "code",
   "execution_count": 20,
   "id": "93733613-455a-48bf-903e-267ea52a8a0e",
   "metadata": {},
   "outputs": [
    {
     "data": {
      "text/plain": [
       "0.503149940000003"
      ]
     },
     "execution_count": 20,
     "metadata": {},
     "output_type": "execute_result"
    }
   ],
   "source": [
    "time_it(compute_powers_3, 2, end=20000, rep=5)"
   ]
  },
  {
   "cell_type": "markdown",
   "id": "3d333f7c-bba3-4a25-8cd6-026a1d723679",
   "metadata": {},
   "source": [
    "## **Parameter Defaults - Beware!!!**"
   ]
  },
  {
   "cell_type": "code",
   "execution_count": 21,
   "id": "702081ac-2738-4171-b1b4-4cd0e0327046",
   "metadata": {},
   "outputs": [],
   "source": [
    "from datetime import datetime"
   ]
  },
  {
   "cell_type": "code",
   "execution_count": 22,
   "id": "b4a71ba9-0c4c-4953-92bd-e3fc3f803af5",
   "metadata": {},
   "outputs": [],
   "source": [
    "def log(msg, *, dt=datetime.now()):\n",
    "    print(f'{dt}: {msg}')"
   ]
  },
  {
   "cell_type": "code",
   "execution_count": 23,
   "id": "3daee953-f308-4f1b-ac4e-db106acd4ada",
   "metadata": {},
   "outputs": [
    {
     "name": "stdout",
     "output_type": "stream",
     "text": [
      "2024-01-14 09:26:55.609055: msg 1\n",
      "2024-01-14 09:26:56.737107\n",
      "2024-01-14 09:26:55.609055: msg 2\n"
     ]
    }
   ],
   "source": [
    "log('msg 1')\n",
    "time.sleep(1)\n",
    "print(datetime.now())\n",
    "log('msg 2')"
   ]
  },
  {
   "cell_type": "markdown",
   "id": "ff66454b-cd1f-4155-9c4a-feaa7e7c9e6d",
   "metadata": {},
   "source": [
    "We can see the time is identical even when we called the log function twice with a delay of 1 second. <br>\n",
    "This is due to the fact that default values for function parameters are created once during the run time, <br> \n",
    "they don't change for everytime we call that respected function."
   ]
  },
  {
   "cell_type": "code",
   "execution_count": 24,
   "id": "e1c8a811-8c7e-4aff-aa97-3025a5f26f47",
   "metadata": {},
   "outputs": [],
   "source": [
    "def log(msg, *, dt=None):\n",
    "    dt = dt or datetime.now()\n",
    "    print(f'{dt}: {msg}')"
   ]
  },
  {
   "cell_type": "code",
   "execution_count": 25,
   "id": "207e5913-8ae1-48f7-803a-b65bf9ae7819",
   "metadata": {},
   "outputs": [
    {
     "name": "stdout",
     "output_type": "stream",
     "text": [
      "2024-01-14 09:26:56.999215: msg 1\n",
      "2024-01-14 09:26:58.001815\n",
      "2024-01-14 09:26:58.001815: msg 2\n"
     ]
    }
   ],
   "source": [
    "log('msg 1')\n",
    "time.sleep(1)\n",
    "print(datetime.now())\n",
    "log('msg 2')"
   ]
  },
  {
   "cell_type": "markdown",
   "id": "c6357a11-a670-47be-9e71-6a3ba758a1f9",
   "metadata": {},
   "source": [
    "Also beware of mutable objects as defaults in parameters. Use a tuple instead of list to avoid mutability issues if applicable."
   ]
  },
  {
   "cell_type": "code",
   "execution_count": 26,
   "id": "34e2cc17-91b0-4eea-85ed-923b1164d8ef",
   "metadata": {},
   "outputs": [],
   "source": [
    "def func(a=[1,2,3]):\n",
    "    a.append('hi')\n",
    "    return a"
   ]
  },
  {
   "cell_type": "code",
   "execution_count": 27,
   "id": "a1ff3dc1-2a77-460a-9f40-e9ea48aaeaf6",
   "metadata": {},
   "outputs": [
    {
     "data": {
      "text/plain": [
       "['hello', 'hi']"
      ]
     },
     "execution_count": 27,
     "metadata": {},
     "output_type": "execute_result"
    }
   ],
   "source": [
    "func(['hello'])"
   ]
  },
  {
   "cell_type": "code",
   "execution_count": 28,
   "id": "d41ab574-581f-48ea-b2f8-5e7f550cf691",
   "metadata": {},
   "outputs": [
    {
     "data": {
      "text/plain": [
       "[1, 2, 3, 'hi']"
      ]
     },
     "execution_count": 28,
     "metadata": {},
     "output_type": "execute_result"
    }
   ],
   "source": [
    "func()"
   ]
  },
  {
   "cell_type": "code",
   "execution_count": 29,
   "id": "1f73487c-a5f6-4fda-8487-89574135a92f",
   "metadata": {},
   "outputs": [
    {
     "data": {
      "text/plain": [
       "[45, 'hi']"
      ]
     },
     "execution_count": 29,
     "metadata": {},
     "output_type": "execute_result"
    }
   ],
   "source": [
    "func([45])"
   ]
  },
  {
   "cell_type": "code",
   "execution_count": 30,
   "id": "44720046-c517-448c-87f7-ecc525cb5862",
   "metadata": {},
   "outputs": [
    {
     "data": {
      "text/plain": [
       "[1, 2, 3, 'hi', 'hi']"
      ]
     },
     "execution_count": 30,
     "metadata": {},
     "output_type": "execute_result"
    }
   ],
   "source": [
    "func() "
   ]
  },
  {
   "cell_type": "markdown",
   "id": "5c9f634b-9866-43a8-ad4c-8a7efe404575",
   "metadata": {},
   "source": [
    "Here we can see the last `func()` call returned the list with two 'hi', <br> \n",
    "because the list was already mutated when we called the `func()` first time."
   ]
  }
 ],
 "metadata": {
  "kernelspec": {
   "display_name": "Python 3 (ipykernel)",
   "language": "python",
   "name": "python3"
  },
  "language_info": {
   "codemirror_mode": {
    "name": "ipython",
    "version": 3
   },
   "file_extension": ".py",
   "mimetype": "text/x-python",
   "name": "python",
   "nbconvert_exporter": "python",
   "pygments_lexer": "ipython3",
   "version": "3.12.1"
  }
 },
 "nbformat": 4,
 "nbformat_minor": 5
}
