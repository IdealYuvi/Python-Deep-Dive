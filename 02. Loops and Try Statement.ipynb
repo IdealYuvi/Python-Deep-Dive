{
 "cells": [
  {
   "cell_type": "markdown",
   "id": "64c67625-3b3a-4115-94b1-ecd426781a09",
   "metadata": {},
   "source": [
    "## **While Loop**"
   ]
  },
  {
   "cell_type": "markdown",
   "id": "a0e7f159-832e-4196-a112-71fde3c17885",
   "metadata": {},
   "source": [
    "The 'else' statement on a 'while' condition only runs if the while-loop terminated naturally"
   ]
  },
  {
   "cell_type": "code",
   "execution_count": 1,
   "id": "e14a752e-179a-4241-9750-26b2c27b36ff",
   "metadata": {
    "scrolled": true
   },
   "outputs": [
    {
     "name": "stdout",
     "output_type": "stream",
     "text": [
      "[1, 2, 3]\n"
     ]
    }
   ],
   "source": [
    "l = [1, 2, 3]\n",
    "val = 2\n",
    "idx = 0\n",
    "\n",
    "while idx < len(l):\n",
    "    if l[idx] == val:\n",
    "        break\n",
    "    idx += 1\n",
    "else:\n",
    "    l.append(val)\n",
    "\n",
    "print(l)"
   ]
  },
  {
   "cell_type": "code",
   "execution_count": 2,
   "id": "df5ed116-0644-476a-a8a0-d8bee42e9fd7",
   "metadata": {},
   "outputs": [
    {
     "name": "stdout",
     "output_type": "stream",
     "text": [
      "[1, 2, 3, 10]\n"
     ]
    }
   ],
   "source": [
    "l = [1, 2, 3]\n",
    "val = 10\n",
    "idx = 0\n",
    "\n",
    "while idx < len(l):\n",
    "    if l[idx] == val:\n",
    "        break\n",
    "    idx += 1\n",
    "else:\n",
    "    l.append(val)\n",
    "\n",
    "print(l)"
   ]
  },
  {
   "cell_type": "markdown",
   "id": "820c0bf3-3df8-470b-b0f0-382e1246f700",
   "metadata": {},
   "source": [
    "## **Try Statement**"
   ]
  },
  {
   "cell_type": "markdown",
   "id": "5bffdf13-0af2-427b-9438-9f87b08dba1c",
   "metadata": {},
   "source": [
    "'finally' in a 'try' statement will always run even if we have 'break/continue' in the 'try/except' statements"
   ]
  },
  {
   "cell_type": "code",
   "execution_count": 3,
   "id": "9be15e01-e3c5-49f6-bdfd-d9bb716f4642",
   "metadata": {},
   "outputs": [
    {
     "name": "stdout",
     "output_type": "stream",
     "text": [
      "----------------\n",
      "1, 1 - always executes\n",
      "1, 1 - main loop\n",
      "----------------\n",
      "2, 0 - division by zero\n",
      "2, 0 - always executes\n",
      "----------------\n",
      "3, -1 - always executes\n",
      "3, -1 - main loop\n",
      "----------------\n",
      "4, -2 - always executes\n",
      "4, -2 - main loop\n"
     ]
    }
   ],
   "source": [
    "a = 0\n",
    "b = 2\n",
    "\n",
    "while a < 4:\n",
    "    print('----------------')\n",
    "    a += 1\n",
    "    b -= 1\n",
    "\n",
    "    try: \n",
    "        a / b\n",
    "    except ZeroDivisionError:\n",
    "        print(f'{a}, {b} - division by zero')\n",
    "        continue\n",
    "    finally:\n",
    "        print(f'{a}, {b} - always executes')\n",
    "\n",
    "    print(f'{a}, {b} - main loop')"
   ]
  },
  {
   "cell_type": "code",
   "execution_count": 4,
   "id": "89dd36b7-71e0-4313-b2ee-d92530b0d219",
   "metadata": {},
   "outputs": [
    {
     "name": "stdout",
     "output_type": "stream",
     "text": [
      "----------------\n",
      "1, 1 - always executes\n",
      "1, 1 - main loop\n",
      "----------------\n",
      "2, 0 - division by zero\n",
      "2, 0 - always executes\n"
     ]
    }
   ],
   "source": [
    "a = 0\n",
    "b = 2\n",
    "\n",
    "while a < 4:\n",
    "    print('----------------')\n",
    "    a += 1\n",
    "    b -= 1\n",
    "\n",
    "    try: \n",
    "        a / b\n",
    "    except ZeroDivisionError:\n",
    "        print(f'{a}, {b} - division by zero')\n",
    "        break\n",
    "    finally:\n",
    "        print(f'{a}, {b} - always executes')\n",
    "\n",
    "    print(f'{a}, {b} - main loop')"
   ]
  },
  {
   "cell_type": "code",
   "execution_count": 5,
   "id": "3cab65f1-3df7-43ee-9285-05dde3612c99",
   "metadata": {},
   "outputs": [
    {
     "name": "stdout",
     "output_type": "stream",
     "text": [
      "----------------\n",
      "1, 9 - always executes\n",
      "1, 9 - main loop\n",
      "----------------\n",
      "2, 8 - always executes\n",
      "2, 8 - main loop\n",
      "----------------\n",
      "3, 7 - always executes\n",
      "3, 7 - main loop\n",
      "----------------\n",
      "4, 6 - always executes\n",
      "4, 6 - main loop\n",
      "Code executed without a zero division error\n"
     ]
    }
   ],
   "source": [
    "a = 0\n",
    "b = 10\n",
    "\n",
    "while a < 4:\n",
    "    print('----------------')\n",
    "    a += 1\n",
    "    b -= 1\n",
    "\n",
    "    try: \n",
    "        a / b\n",
    "    except ZeroDivisionError:\n",
    "        print(f'{a}, {b} - division by zero')\n",
    "        break\n",
    "    finally:\n",
    "        print(f'{a}, {b} - always executes')\n",
    "\n",
    "    print(f'{a}, {b} - main loop')\n",
    "else:\n",
    "    print('Code executed without a zero division error')"
   ]
  },
  {
   "cell_type": "markdown",
   "id": "ef1d6a45-384e-4e56-8b83-d09df654faed",
   "metadata": {},
   "source": [
    "## **For Loop**"
   ]
  },
  {
   "cell_type": "markdown",
   "id": "1647a4f1-ba09-4b74-bd6d-34baa5744405",
   "metadata": {},
   "source": [
    "In python, an iterable is an object capable of returning values one at a time, <br>\n",
    "lists, strings, tuples are all iterables. <br> "
   ]
  },
  {
   "cell_type": "markdown",
   "id": "0f8f90a9-7afc-4cd9-9200-88f168aafeaa",
   "metadata": {},
   "source": [
    "The 'range' function returns an iterable object with desired values without creating a list, thus saving space."
   ]
  },
  {
   "cell_type": "code",
   "execution_count": 6,
   "id": "b3b9734c-39e0-4edf-a02c-40c5f65b642d",
   "metadata": {},
   "outputs": [
    {
     "name": "stdout",
     "output_type": "stream",
     "text": [
      "range(1, 5)\n"
     ]
    }
   ],
   "source": [
    "print(range(1,5))"
   ]
  },
  {
   "cell_type": "code",
   "execution_count": 7,
   "id": "4840367a-a6e6-4fd8-8521-fa44de784efd",
   "metadata": {},
   "outputs": [
    {
     "name": "stdout",
     "output_type": "stream",
     "text": [
      "[1, 2, 3, 4]\n"
     ]
    }
   ],
   "source": [
    "print(list(range(1,5)))"
   ]
  },
  {
   "cell_type": "markdown",
   "id": "dbdf9e31-ee30-4c19-8098-d6f1f4647a97",
   "metadata": {},
   "source": [
    "The 'else' statement on a 'for' condition only runs if the for-loop terminated naturally"
   ]
  },
  {
   "cell_type": "code",
   "execution_count": 8,
   "id": "a02c8f41-9e6f-424b-a1cc-604ca544b081",
   "metadata": {},
   "outputs": [
    {
     "name": "stdout",
     "output_type": "stream",
     "text": [
      "1\n",
      "2\n",
      "3\n",
      "4\n",
      "no multiples of 7 in range\n"
     ]
    }
   ],
   "source": [
    "for i in range(1, 5):\n",
    "    print(i)\n",
    "    if i % 7 == 0:\n",
    "        print('multiple of 7 found')\n",
    "        break\n",
    "else:\n",
    "    print('no multiples of 7 in range')"
   ]
  },
  {
   "cell_type": "code",
   "execution_count": 9,
   "id": "39dd6f2b-6022-4935-b8dd-c77bc4f51ca6",
   "metadata": {},
   "outputs": [
    {
     "name": "stdout",
     "output_type": "stream",
     "text": [
      "1\n",
      "2\n",
      "3\n",
      "4\n",
      "5\n",
      "6\n",
      "7\n",
      "multiple of 7 found\n"
     ]
    }
   ],
   "source": [
    "for i in range(1, 9):\n",
    "    print(i)\n",
    "    if i % 7 == 0:\n",
    "        print('multiple of 7 found')\n",
    "        break\n",
    "else:\n",
    "    print('no multiples of 7 in range')"
   ]
  },
  {
   "cell_type": "code",
   "execution_count": 10,
   "id": "209fc6b9-301e-40fc-a76f-d63e5d783769",
   "metadata": {},
   "outputs": [
    {
     "name": "stdout",
     "output_type": "stream",
     "text": [
      "0 h\n",
      "1 e\n",
      "2 l\n",
      "3 l\n",
      "4 o\n"
     ]
    }
   ],
   "source": [
    "s = 'hello'\n",
    "\n",
    "for i, c in enumerate(s): # enumerate returns enumerate object that contains key-value pairs of (index, value)\n",
    "    print(i, c)"
   ]
  },
  {
   "cell_type": "code",
   "execution_count": 11,
   "id": "69f741fc-a6c5-4c77-bfbb-019542d108c6",
   "metadata": {},
   "outputs": [],
   "source": [
    "names = ['john', 'jane', 'james']\n",
    "enum_names = enumerate(names)"
   ]
  },
  {
   "cell_type": "code",
   "execution_count": 12,
   "id": "261c3ed7-851a-4e54-82fa-f6f0a93004ee",
   "metadata": {},
   "outputs": [
    {
     "name": "stdout",
     "output_type": "stream",
     "text": [
      "<enumerate object at 0x000001CEEAA80DB0>\n"
     ]
    }
   ],
   "source": [
    "print(enum_names)"
   ]
  },
  {
   "cell_type": "code",
   "execution_count": 13,
   "id": "067c4bb1-59bf-4ed6-b5f3-1faf997aa99b",
   "metadata": {},
   "outputs": [
    {
     "name": "stdout",
     "output_type": "stream",
     "text": [
      "[(0, 'john'), (1, 'jane'), (2, 'james')]\n"
     ]
    }
   ],
   "source": [
    "print(list(enum_names))"
   ]
  },
  {
   "cell_type": "code",
   "execution_count": 14,
   "id": "55f8a199-51b1-4ae9-867b-d1c7ebdb18e7",
   "metadata": {},
   "outputs": [
    {
     "name": "stdout",
     "output_type": "stream",
     "text": [
      "[(10, 'john'), (11, 'jane'), (12, 'james')]\n"
     ]
    }
   ],
   "source": [
    "names = ['john', 'jane', 'james']\n",
    "enum_names = enumerate(names, 10) # enumerate(iterable, start)\n",
    "print(list(enum_names))"
   ]
  },
  {
   "cell_type": "code",
   "execution_count": null,
   "id": "0d7f09fb-857e-4c7a-9840-3df0c0631200",
   "metadata": {},
   "outputs": [],
   "source": []
  }
 ],
 "metadata": {
  "kernelspec": {
   "display_name": "Python 3 (ipykernel)",
   "language": "python",
   "name": "python3"
  },
  "language_info": {
   "codemirror_mode": {
    "name": "ipython",
    "version": 3
   },
   "file_extension": ".py",
   "mimetype": "text/x-python",
   "name": "python",
   "nbconvert_exporter": "python",
   "pygments_lexer": "ipython3",
   "version": "3.12.1"
  }
 },
 "nbformat": 4,
 "nbformat_minor": 5
}
